{
 "cells": [
  {
   "cell_type": "markdown",
   "id": "ce511824",
   "metadata": {},
   "source": [
    "## PageRank: A Study on Stanford's Web Network"
   ]
  },
  {
   "cell_type": "markdown",
   "id": "c1607cf2",
   "metadata": {},
   "source": [
    "### Importing necessary libraries"
   ]
  },
  {
   "cell_type": "code",
   "execution_count": 1,
   "id": "146b876d",
   "metadata": {},
   "outputs": [
    {
     "data": {
      "text/plain": [
       "{'divide': 'warn', 'over': 'warn', 'under': 'ignore', 'invalid': 'warn'}"
      ]
     },
     "execution_count": 1,
     "metadata": {},
     "output_type": "execute_result"
    }
   ],
   "source": [
    "# import necessary libraries\n",
    "import numpy as np\n",
    "from scipy import sparse\n",
    "from numpy.linalg import norm\n",
    "import time\n",
    "np.seterr(divide='ignore')"
   ]
  },
  {
   "cell_type": "code",
   "execution_count": 2,
   "id": "d05f8354",
   "metadata": {},
   "outputs": [],
   "source": [
    "# method to parse the data. Obviously, storing all that information\n",
    "# naively in a numpy array would lead to memory error. Thus, sparse\n",
    "# matrix is used.\n",
    "def load_dataset(data):\n",
    "    # list to store the origin pages,\n",
    "    origin_pages = []\n",
    "    # list to store the destination pages,\n",
    "    destination_pages = []\n",
    "    # dictionary having as a key a webpage and as value\n",
    "    # the number of its invoming edges\n",
    "    dict_out = {}\n",
    "    dict_in = {}\n",
    "    with open(data, 'r') as f:\n",
    "        # for each line of the initial data file\n",
    "        for line in f.readlines():\n",
    "            # get the item of the first column\n",
    "            # and substract one. This is done because the ids of webpages\n",
    "            # begin from 1 but the indexes for matrices begine from 0. So\n",
    "            # 1 will stand for 0.\n",
    "            origin_page = int(line.split()[0]) - 1\n",
    "            # Apply the same logic as above for the element of the second\n",
    "            # column.\n",
    "            destination_page = int(line.split()[1]) - 1\n",
    "            # append the the origin page to the relative list\n",
    "            origin_pages.append(origin_page)\n",
    "            # append the the destination page to the relative list\n",
    "            destination_pages.append(destination_page)\n",
    "            # fill the dictionary by counting how many times\n",
    "            # each destination-page has appeared.\n",
    "            if origin_page not in dict_out.keys():\n",
    "                dict_out[origin_page] = 1\n",
    "            else:\n",
    "                dict_out[origin_page] += 1\n",
    "            if destination_page not in dict_in.keys():\n",
    "                dict_in[destination_page] = [origin_page]\n",
    "            else:\n",
    "                dict_in[destination_page].append(origin_page)\n",
    "            \n",
    "    # compute number of edges\n",
    "    edges = len(origin_pages)\n",
    "    # compute number of nodes\n",
    "    nodes = len(set(origin_pages) | set(destination_pages))\n",
    "    \n",
    "    for node in range(nodes):  \n",
    "        if node not in dict_in.keys():\n",
    "            dict_in[node] = []\n",
    "\n",
    "    # initialize a row-based linked list sparse matrix\n",
    "    # that matrix will be used for the Gauss-Seidel implementation\n",
    "    # of the PageRank\n",
    "    D = sparse.lil_matrix((nodes, 1))\n",
    "    for key in dict_out.keys():\n",
    "        D[key] = 1/dict_out[key]\n",
    "    # fill the connectivity matrix, adjacency matrix. A sparse structure \n",
    "    # is used. That way the implementation is extremely memory efficient.\n",
    "    csr_m = sparse.csr_matrix(([1]*edges,\n",
    "                               (destination_pages, origin_pages)),\n",
    "                              shape=(nodes, nodes))\n",
    "    # return the two created matrices\n",
    "    return csr_m, D, dict_in"
   ]
  },
  {
   "cell_type": "code",
   "execution_count": 3,
   "id": "601ba25c",
   "metadata": {},
   "outputs": [],
   "source": [
    "def pagerank_galgo(G, alpha=0.85, tol=10**-8):\n",
    "    # The matrix G is the adjacency matrix with dead-ends and closed communities or spidertraps.\n",
    "    # Those problems will be tackled during the iterations of the algorithm. In other words, we do  \n",
    "    # not pre-adjust the matrix P. Instead we reinsert leaked page-rank back into computation.\n",
    "    \n",
    "    # compute the number of nodes, the matrix is symmetric\n",
    "    n = G.shape[0]\n",
    "    # compute the ratio of the out degree of each node\n",
    "    # to the alpha\n",
    "    out_alpha = G.sum(axis=0).T/alpha\n",
    "    r = np.ones((n,1))/n\n",
    "    error = 1\n",
    "    t = 0\n",
    "    while error > tol:\n",
    "        t += 1\n",
    "        r_new = G.dot((r/out_alpha))\n",
    "        #  L≤alpha due to dead-ends\n",
    "        L = r_new.sum()\n",
    "        # re-insert leaked page-rank\n",
    "        # now all ranks add to one\n",
    "        r_new += (1-L)/n\n",
    "        # compute the error as the euclidean norm of the\n",
    "        # previous ranks and the new ranks\n",
    "        error = np.linalg.norm(r-r_new)\n",
    "        # store the new ranks as the ranks of the current\n",
    "        # iteration\n",
    "        if t == 2:\n",
    "            # list to return the nodes that converged from the\n",
    "            # second iteration\n",
    "            list_conv = []\n",
    "            for i in range(r.shape[0]):\n",
    "                if np.linalg.norm(r[i]-r_new[i]) < tol:\n",
    "                    list_conv.append(i)\n",
    "        r = r_new\n",
    "    return r, t, list_conv"
   ]
  },
  {
   "cell_type": "code",
   "execution_count": 4,
   "id": "5f2b55fa",
   "metadata": {},
   "outputs": [],
   "source": [
    "def pagerank_gs(tol, G, D, dict_in, alpha):\n",
    "    # in that approach a linear system approach is used to solve\n",
    "    # get the ranks of each webpage\n",
    "    \n",
    "    # the initial solution is again given from the uniform distribution\n",
    "    # i.e. we give equal weights to each webpage\n",
    "    x_old = np.ones(G.shape[0])/G.shape[0]\n",
    "    t = 0\n",
    "    error = 1\n",
    "    b = 1/G.shape[0]\n",
    "    D = alpha*D\n",
    "    x = x_old.copy()\n",
    "    \n",
    "    # apply the element-wise formula for the Gauss–Seidel method for \n",
    "    # the pagerank. That formula looks a lot like the Jacobi formula \n",
    "    # and it is the same with SOR for omega equals to 1. As input it\n",
    "    # is used the initial matrix P without any preadjustments as well\n",
    "    # as a dictionary showing all the in-edged of each webpage. In general,\n",
    "    # the following implementation scheme is based on the paper:\n",
    "    # https://web.ece.ucsb.edu/~hespanha/published/pagerank.pdf\n",
    "    while error > tol:\n",
    "        t += 1\n",
    "        for i in range(G.shape[0]):\n",
    "\n",
    "            sum_before = 0\n",
    "            sum_after = 0\n",
    "            for j in dict_in[i]:\n",
    "                if j < i:\n",
    "                    sum_before += D.data[j][0] * x[j]\n",
    "\n",
    "                if j > i:\n",
    "                    sum_after += D.data[j][0] * x_old[j]\n",
    "\n",
    "            x[i] = b + sum_before + sum_after\n",
    "\n",
    "        error = np.linalg.norm(x-x_old)/np.linalg.norm(x)\n",
    "        if t == 2:\n",
    "            # list to return the nodes that converged from the\n",
    "            # second iteration\n",
    "            list_conv = []\n",
    "            for i in range(x.shape[0]):\n",
    "                if np.linalg.norm(x[i]-x_old[i]) < tol:\n",
    "                    list_conv.append(i)\n",
    "\n",
    "        print('Iteration:', t, '==> Relative Error:', error)\n",
    "        x_old = x.copy()\n",
    "\n",
    "    return x, list_conv"
   ]
  },
  {
   "cell_type": "markdown",
   "id": "5b26c698",
   "metadata": {},
   "source": [
    "### Importing Dataset"
   ]
  },
  {
   "cell_type": "code",
   "execution_count": 9,
   "id": "10e12590",
   "metadata": {},
   "outputs": [],
   "source": [
    "csr_m, D, dict_in = load_dataset(\"./Dataset/stanweb.dat\")"
   ]
  },
  {
   "cell_type": "markdown",
   "id": "a88ad0a6",
   "metadata": {},
   "source": [
    "### Question 1a"
   ]
  },
  {
   "cell_type": "markdown",
   "id": "c4f62323",
   "metadata": {},
   "source": [
    "#### i. Google's Algorithm - Power method"
   ]
  },
  {
   "cell_type": "code",
   "execution_count": 18,
   "id": "e53fb58c",
   "metadata": {},
   "outputs": [
    {
     "name": "stdout",
     "output_type": "stream",
     "text": [
      "Time of Pagerank with Google's Algorithm: 6.182928085327148 seconds\n",
      "Number of iterations: 72\n"
     ]
    }
   ],
   "source": [
    "start_time = time.time()\n",
    "pr, t, list_conv = pagerank_galgo(csr_m)\n",
    "print(\"Time of Pagerank with Google's Algorithm:\",\n",
    "      time.time() - start_time, \"seconds\")\n",
    "print (\"Number of iterations:\", t)\n",
    "mat_prg = np.asarray(pr).ravel()"
   ]
  },
  {
   "cell_type": "markdown",
   "id": "ea31e480",
   "metadata": {},
   "source": [
    "#### ii. Solution of the corresponding system - Gauss Seidel"
   ]
  },
  {
   "cell_type": "code",
   "execution_count": 19,
   "id": "2b2121b2",
   "metadata": {},
   "outputs": [
    {
     "name": "stdout",
     "output_type": "stream",
     "text": [
      "Iteration: 1 ==> Relative Error: 0.997605864804151\n",
      "Iteration: 2 ==> Relative Error: 0.4054109826036649\n",
      "Iteration: 3 ==> Relative Error: 0.22047373339942417\n",
      "Iteration: 4 ==> Relative Error: 0.14008157663540255\n",
      "Iteration: 5 ==> Relative Error: 0.0916579942469785\n",
      "Iteration: 6 ==> Relative Error: 0.06208189402282477\n",
      "Iteration: 7 ==> Relative Error: 0.0428958007110852\n",
      "Iteration: 8 ==> Relative Error: 0.03007122562269499\n",
      "Iteration: 9 ==> Relative Error: 0.02130464756876604\n",
      "Iteration: 10 ==> Relative Error: 0.015210011046644085\n",
      "Iteration: 11 ==> Relative Error: 0.010921248126796736\n",
      "Iteration: 12 ==> Relative Error: 0.007874909962757961\n",
      "Iteration: 13 ==> Relative Error: 0.005696540133272372\n",
      "Iteration: 14 ==> Relative Error: 0.0041307516243636435\n",
      "Iteration: 15 ==> Relative Error: 0.003000912867833307\n",
      "Iteration: 16 ==> Relative Error: 0.0021832470941981234\n",
      "Iteration: 17 ==> Relative Error: 0.0015901745892285591\n",
      "Iteration: 18 ==> Relative Error: 0.0011592462668742194\n",
      "Iteration: 19 ==> Relative Error: 0.0008457138252581762\n",
      "Iteration: 20 ==> Relative Error: 0.0006173470016754721\n",
      "Iteration: 21 ==> Relative Error: 0.0004508719546036065\n",
      "Iteration: 22 ==> Relative Error: 0.00032942821835483724\n",
      "Iteration: 23 ==> Relative Error: 0.00024078555567308538\n",
      "Iteration: 24 ==> Relative Error: 0.0001760520196785487\n",
      "Iteration: 25 ==> Relative Error: 0.00012876016519526676\n",
      "Iteration: 26 ==> Relative Error: 9.419715358032827e-05\n",
      "Iteration: 27 ==> Relative Error: 6.892956355464799e-05\n",
      "Iteration: 28 ==> Relative Error: 5.0451475138158664e-05\n",
      "Iteration: 29 ==> Relative Error: 3.6935430086307264e-05\n",
      "Iteration: 30 ==> Relative Error: 2.7046042593918005e-05\n",
      "Iteration: 31 ==> Relative Error: 1.9808856510192887e-05\n",
      "Iteration: 32 ==> Relative Error: 1.4511098914333464e-05\n",
      "Iteration: 33 ==> Relative Error: 1.0632455186931363e-05\n",
      "Iteration: 34 ==> Relative Error: 7.791983339254852e-06\n",
      "Iteration: 35 ==> Relative Error: 5.711553599470782e-06\n",
      "Iteration: 36 ==> Relative Error: 4.1873457482284686e-06\n",
      "Iteration: 37 ==> Relative Error: 3.070551470501251e-06\n",
      "Iteration: 38 ==> Relative Error: 2.252008877790636e-06\n",
      "Iteration: 39 ==> Relative Error: 1.6520365435070224e-06\n",
      "Iteration: 40 ==> Relative Error: 1.2121143319907886e-06\n",
      "Iteration: 41 ==> Relative Error: 8.895449110734155e-07\n",
      "Iteration: 42 ==> Relative Error: 6.5292744695825e-07\n",
      "Iteration: 43 ==> Relative Error: 4.793676369494392e-07\n",
      "Iteration: 44 ==> Relative Error: 3.5200071605195184e-07\n",
      "Iteration: 45 ==> Relative Error: 2.5854350961699834e-07\n",
      "Iteration: 46 ==> Relative Error: 1.8992964048828723e-07\n",
      "Iteration: 47 ==> Relative Error: 1.395655211647489e-07\n",
      "Iteration: 48 ==> Relative Error: 1.0257225088282847e-07\n",
      "Iteration: 49 ==> Relative Error: 7.540878474638734e-08\n",
      "Iteration: 50 ==> Relative Error: 5.544682115179599e-08\n",
      "Iteration: 51 ==> Relative Error: 4.078395080460514e-08\n",
      "Iteration: 52 ==> Relative Error: 3.0002632769433e-08\n",
      "Iteration: 53 ==> Relative Error: 2.208052104109608e-08\n",
      "Iteration: 54 ==> Relative Error: 1.6252093715035798e-08\n",
      "Iteration: 55 ==> Relative Error: 1.1967856261798687e-08\n",
      "Iteration: 56 ==> Relative Error: 8.813797380478362e-09\n",
      "Time of Pagerank with Gauss-Seidel: 224.48108410835266 seconds\n"
     ]
    }
   ],
   "source": [
    "start_time = time.time()\n",
    "gs, list_convgs = pagerank_gs(10**-8, csr_m, D, dict_in, 0.85)\n",
    "print(\"Time of Pagerank with Gauss-Seidel:\",\n",
    "      time.time() - start_time, \"seconds\")\n",
    "mat_prgs = np.asarray(gs).ravel()"
   ]
  },
  {
   "cell_type": "markdown",
   "id": "837d1fc9",
   "metadata": {},
   "source": [
    "#### **Results**"
   ]
  },
  {
   "cell_type": "markdown",
   "id": "9be1ae24",
   "metadata": {},
   "source": [
    "The Power method appears to be substantially quicker than the Gauss-Seidel version. Both strategies provide different outcomes. They are distinguished by 121562 rankings."
   ]
  },
  {
   "cell_type": "code",
   "execution_count": 21,
   "id": "34ea6c97",
   "metadata": {},
   "outputs": [
    {
     "name": "stdout",
     "output_type": "stream",
     "text": [
      "The two aforementioned methods differ in: 121652 ranks.\n"
     ]
    }
   ],
   "source": [
    "indices_pr = mat_prg.argsort()[-len(mat_prg):][::-1]\n",
    "indices_prs = mat_prgs.argsort()[-len(mat_prgs):][::-1]\n",
    "print(\"The two aforementioned methods differ in:\",\n",
    "      np.sum(indices_prs[:] != indices_pr[:]), \"ranks.\")"
   ]
  },
  {
   "cell_type": "markdown",
   "id": "3345f11c",
   "metadata": {},
   "source": [
    "### Question 1b"
   ]
  },
  {
   "cell_type": "code",
   "execution_count": 23,
   "id": "ccfcd9a9",
   "metadata": {},
   "outputs": [
    {
     "name": "stdout",
     "output_type": "stream",
     "text": [
      "Time of Pagerank with Google's Algorithm: 37.51247763633728 seconds\n",
      "Number of iterations: 1141\n"
     ]
    }
   ],
   "source": [
    "start_time = time.time()\n",
    "pr_99, t, list_conv99 = pagerank_galgo(csr_m, 0.99, 10**-8)\n",
    "print(\"Time of Pagerank with Google's Algorithm:\",\n",
    "      time.time() - start_time, \"seconds\")\n",
    "print (\"Number of iterations:\", t)\n",
    "mat_prg_99 = np.asarray(pr_99).ravel()"
   ]
  },
  {
   "cell_type": "code",
   "execution_count": 24,
   "id": "a749eb86",
   "metadata": {},
   "outputs": [
    {
     "name": "stdout",
     "output_type": "stream",
     "text": [
      "Iteration: 1 ==> Relative Error: 0.9981678259340745\n",
      "Iteration: 2 ==> Relative Error: 0.47185982372499896\n",
      "Iteration: 3 ==> Relative Error: 0.3100832127531775\n",
      "Iteration: 4 ==> Relative Error: 0.23528133099965182\n",
      "Iteration: 5 ==> Relative Error: 0.18625685865046143\n",
      "Iteration: 6 ==> Relative Error: 0.15353070497237115\n",
      "Iteration: 7 ==> Relative Error: 0.1300477866165402\n",
      "Iteration: 8 ==> Relative Error: 0.11252370771418573\n",
      "Iteration: 9 ==> Relative Error: 0.09899702839915098\n",
      "Iteration: 10 ==> Relative Error: 0.0882611511428183\n",
      "Iteration: 11 ==> Relative Error: 0.07954383560946221\n",
      "Iteration: 12 ==> Relative Error: 0.0723243491142378\n",
      "Iteration: 13 ==> Relative Error: 0.06624868022544683\n",
      "Iteration: 14 ==> Relative Error: 0.061063168400621017\n",
      "Iteration: 15 ==> Relative Error: 0.05658458227347333\n",
      "Iteration: 16 ==> Relative Error: 0.05267618438552044\n",
      "Iteration: 17 ==> Relative Error: 0.049235129342435256\n",
      "Iteration: 18 ==> Relative Error: 0.046181384190046776\n",
      "Iteration: 19 ==> Relative Error: 0.04345296868965036\n",
      "Iteration: 20 ==> Relative Error: 0.04100014479237341\n",
      "Iteration: 21 ==> Relative Error: 0.03878329919503059\n",
      "Iteration: 22 ==> Relative Error: 0.03676976102415666\n",
      "Iteration: 23 ==> Relative Error: 0.03493308827727659\n",
      "Iteration: 24 ==> Relative Error: 0.033250999261247464\n",
      "Iteration: 25 ==> Relative Error: 0.03170500786453746\n",
      "Iteration: 26 ==> Relative Error: 0.03027930223186709\n",
      "Iteration: 27 ==> Relative Error: 0.028960630352682454\n",
      "Iteration: 28 ==> Relative Error: 0.027737430397943588\n",
      "Iteration: 29 ==> Relative Error: 0.026599915781515826\n",
      "Iteration: 30 ==> Relative Error: 0.025539450319571416\n",
      "Iteration: 31 ==> Relative Error: 0.024548627708659187\n",
      "Iteration: 32 ==> Relative Error: 0.02362079120525317\n",
      "Iteration: 33 ==> Relative Error: 0.02275028052339812\n",
      "Iteration: 34 ==> Relative Error: 0.021931956020151185\n",
      "Iteration: 35 ==> Relative Error: 0.021161338013916866\n",
      "Iteration: 36 ==> Relative Error: 0.020434356066784804\n",
      "Iteration: 37 ==> Relative Error: 0.01974747877227712\n",
      "Iteration: 38 ==> Relative Error: 0.019097441513331467\n",
      "Iteration: 39 ==> Relative Error: 0.018481407182537386\n",
      "Iteration: 40 ==> Relative Error: 0.017896747065543606\n",
      "Iteration: 41 ==> Relative Error: 0.017341153264471724\n",
      "Iteration: 42 ==> Relative Error: 0.016812443793461883\n",
      "Iteration: 43 ==> Relative Error: 0.016308754987196573\n",
      "Iteration: 44 ==> Relative Error: 0.015828313583687924\n",
      "Iteration: 45 ==> Relative Error: 0.015369549775817327\n",
      "Iteration: 46 ==> Relative Error: 0.014930982961948922\n",
      "Iteration: 47 ==> Relative Error: 0.014511322476417312\n",
      "Iteration: 48 ==> Relative Error: 0.014109324408630287\n",
      "Iteration: 49 ==> Relative Error: 0.013723907147683252\n",
      "Iteration: 50 ==> Relative Error: 0.013354031143423333\n",
      "Iteration: 51 ==> Relative Error: 0.012998781388728193\n",
      "Iteration: 52 ==> Relative Error: 0.012657255026226423\n",
      "Iteration: 53 ==> Relative Error: 0.012328693365793404\n",
      "Iteration: 54 ==> Relative Error: 0.012012343693142963\n",
      "Iteration: 55 ==> Relative Error: 0.01170753923716448\n",
      "Iteration: 56 ==> Relative Error: 0.0114136302009241\n",
      "Iteration: 57 ==> Relative Error: 0.01113005531015737\n",
      "Iteration: 58 ==> Relative Error: 0.010856251804452228\n",
      "Iteration: 59 ==> Relative Error: 0.01059173596191908\n",
      "Iteration: 60 ==> Relative Error: 0.010336026251357527\n",
      "Iteration: 61 ==> Relative Error: 0.010088701958699415\n",
      "Iteration: 62 ==> Relative Error: 0.009849329976720042\n",
      "Iteration: 63 ==> Relative Error: 0.00961755584964466\n",
      "Iteration: 64 ==> Relative Error: 0.009393012690496453\n",
      "Iteration: 65 ==> Relative Error: 0.009175377677044674\n",
      "Iteration: 66 ==> Relative Error: 0.008964325802673288\n",
      "Iteration: 67 ==> Relative Error: 0.00875958079347111\n",
      "Iteration: 68 ==> Relative Error: 0.008560854384620608\n",
      "Iteration: 69 ==> Relative Error: 0.008367903060411712\n",
      "Iteration: 70 ==> Relative Error: 0.008180475681719713\n",
      "Iteration: 71 ==> Relative Error: 0.007998355532422253\n",
      "Iteration: 72 ==> Relative Error: 0.007821309944563315\n",
      "Iteration: 73 ==> Relative Error: 0.007649154162312229\n",
      "Iteration: 74 ==> Relative Error: 0.007481688704564816\n",
      "Iteration: 75 ==> Relative Error: 0.007318739877139201\n",
      "Iteration: 76 ==> Relative Error: 0.007160127112025778\n",
      "Iteration: 77 ==> Relative Error: 0.007005699745287752\n",
      "Iteration: 78 ==> Relative Error: 0.006855294405345381\n",
      "Iteration: 79 ==> Relative Error: 0.00670877569640099\n",
      "Iteration: 80 ==> Relative Error: 0.006565999137141918\n",
      "Iteration: 81 ==> Relative Error: 0.006426841820703987\n",
      "Iteration: 82 ==> Relative Error: 0.006291166552229109\n",
      "Iteration: 83 ==> Relative Error: 0.006158867481871622\n",
      "Iteration: 84 ==> Relative Error: 0.006029825764494897\n",
      "Iteration: 85 ==> Relative Error: 0.005903939142779978\n",
      "Iteration: 86 ==> Relative Error: 0.005781098091733041\n",
      "Iteration: 87 ==> Relative Error: 0.005661212859827539\n",
      "Iteration: 88 ==> Relative Error: 0.005544182712945458\n",
      "Iteration: 89 ==> Relative Error: 0.005429925648714555\n",
      "Iteration: 90 ==> Relative Error: 0.005318351435515489\n",
      "Iteration: 91 ==> Relative Error: 0.00520938438162617\n",
      "Iteration: 92 ==> Relative Error: 0.005102937137013964\n",
      "Iteration: 93 ==> Relative Error: 0.0049989438929286\n",
      "Iteration: 94 ==> Relative Error: 0.004897328263098328\n",
      "Iteration: 95 ==> Relative Error: 0.004798025289524779\n",
      "Iteration: 96 ==> Relative Error: 0.004700963560454962\n",
      "Iteration: 97 ==> Relative Error: 0.004606085454506234\n",
      "Iteration: 98 ==> Relative Error: 0.004513324427516161\n",
      "Iteration: 99 ==> Relative Error: 0.0044226271108678715\n",
      "Iteration: 100 ==> Relative Error: 0.004333933247573676\n",
      "Iteration: 101 ==> Relative Error: 0.00424719291051715\n",
      "Iteration: 102 ==> Relative Error: 0.004162346946933282\n",
      "Iteration: 103 ==> Relative Error: 0.004079351548879166\n",
      "Iteration: 104 ==> Relative Error: 0.003998154524089311\n",
      "Iteration: 105 ==> Relative Error: 0.003918711960262977\n",
      "Iteration: 106 ==> Relative Error: 0.003840974527135313\n",
      "Iteration: 107 ==> Relative Error: 0.0037649028983483784\n",
      "Iteration: 108 ==> Relative Error: 0.003690450642289065\n",
      "Iteration: 109 ==> Relative Error: 0.0036175809414723723\n",
      "Iteration: 110 ==> Relative Error: 0.0035462513637493517\n",
      "Iteration: 111 ==> Relative Error: 0.003476427110070276\n",
      "Iteration: 112 ==> Relative Error: 0.0034080661386018144\n",
      "Iteration: 113 ==> Relative Error: 0.0033411376440004486\n",
      "Iteration: 114 ==> Relative Error: 0.0032756042158983735\n",
      "Iteration: 115 ==> Relative Error: 0.0032114346730237626\n",
      "Iteration: 116 ==> Relative Error: 0.0031485933708742977\n",
      "Iteration: 117 ==> Relative Error: 0.003087052145047553\n",
      "Iteration: 118 ==> Relative Error: 0.0030267771931665713\n",
      "Iteration: 119 ==> Relative Error: 0.0029677419312269136\n",
      "Iteration: 120 ==> Relative Error: 0.0029099152289806924\n",
      "Iteration: 121 ==> Relative Error: 0.0028532717696639768\n",
      "Iteration: 122 ==> Relative Error: 0.0027977805395596723\n",
      "Iteration: 123 ==> Relative Error: 0.0027434189383625227\n",
      "Iteration: 124 ==> Relative Error: 0.002690159147851219\n",
      "Iteration: 125 ==> Relative Error: 0.0026379781735762654\n",
      "Iteration: 126 ==> Relative Error: 0.0025868493580316404\n",
      "Iteration: 127 ==> Relative Error: 0.0025367517737683296\n",
      "Iteration: 128 ==> Relative Error: 0.002487660001951291\n",
      "Iteration: 129 ==> Relative Error: 0.0024395541697387517\n",
      "Iteration: 130 ==> Relative Error: 0.0023924107150014562\n",
      "Iteration: 131 ==> Relative Error: 0.0023462106109333448\n",
      "Iteration: 132 ==> Relative Error: 0.0023009303200943352\n",
      "Iteration: 133 ==> Relative Error: 0.0022565527240479555\n",
      "Iteration: 134 ==> Relative Error: 0.0022130565530668585\n",
      "Iteration: 135 ==> Relative Error: 0.0021704243593858802\n",
      "Iteration: 136 ==> Relative Error: 0.002128635679409153\n",
      "Iteration: 137 ==> Relative Error: 0.0020876745279070795\n",
      "Iteration: 138 ==> Relative Error: 0.0020475213146853495\n",
      "Iteration: 139 ==> Relative Error: 0.0020081607935426367\n",
      "Iteration: 140 ==> Relative Error: 0.001969574705351654\n",
      "Iteration: 141 ==> Relative Error: 0.0019317483994664118\n",
      "Iteration: 142 ==> Relative Error: 0.0018946636221442732\n",
      "Iteration: 143 ==> Relative Error: 0.001858307097887825\n",
      "Iteration: 144 ==> Relative Error: 0.0018226622183559243\n",
      "Iteration: 145 ==> Relative Error: 0.0017877154601889328\n",
      "Iteration: 146 ==> Relative Error: 0.0017534508012468615\n",
      "Iteration: 147 ==> Relative Error: 0.001719855779792758\n",
      "Iteration: 148 ==> Relative Error: 0.0016869150139131141\n",
      "Iteration: 149 ==> Relative Error: 0.0016546165809506296\n"
     ]
    },
    {
     "name": "stdout",
     "output_type": "stream",
     "text": [
      "Iteration: 150 ==> Relative Error: 0.0016229460773825486\n",
      "Iteration: 151 ==> Relative Error: 0.0015918920184666533\n",
      "Iteration: 152 ==> Relative Error: 0.0015614400127057985\n",
      "Iteration: 153 ==> Relative Error: 0.0015315795864559558\n",
      "Iteration: 154 ==> Relative Error: 0.0015022975635218454\n",
      "Iteration: 155 ==> Relative Error: 0.0014735832964369929\n",
      "Iteration: 156 ==> Relative Error: 0.0014454240513175204\n",
      "Iteration: 157 ==> Relative Error: 0.0014178099672102799\n",
      "Iteration: 158 ==> Relative Error: 0.0013907287943163583\n",
      "Iteration: 159 ==> Relative Error: 0.0013641710776691252\n",
      "Iteration: 160 ==> Relative Error: 0.0013381253012679111\n",
      "Iteration: 161 ==> Relative Error: 0.0013125823434212683\n",
      "Iteration: 162 ==> Relative Error: 0.0012875307133251405\n",
      "Iteration: 163 ==> Relative Error: 0.0012629620448718502\n",
      "Iteration: 164 ==> Relative Error: 0.0012388657580448778\n",
      "Iteration: 165 ==> Relative Error: 0.0012152333726132285\n",
      "Iteration: 166 ==> Relative Error: 0.0011920546520422758\n",
      "Iteration: 167 ==> Relative Error: 0.0011693217084746636\n",
      "Iteration: 168 ==> Relative Error: 0.001147024680413821\n",
      "Iteration: 169 ==> Relative Error: 0.0011251559934437204\n",
      "Iteration: 170 ==> Relative Error: 0.0011037063455161835\n",
      "Iteration: 171 ==> Relative Error: 0.0010826684225971866\n",
      "Iteration: 172 ==> Relative Error: 0.0010620329599974874\n",
      "Iteration: 173 ==> Relative Error: 0.0010417932158324431\n",
      "Iteration: 174 ==> Relative Error: 0.0010219406163274791\n",
      "Iteration: 175 ==> Relative Error: 0.0010024683505967078\n",
      "Iteration: 176 ==> Relative Error: 0.0009833681174915554\n",
      "Iteration: 177 ==> Relative Error: 0.0009646335583068527\n",
      "Iteration: 178 ==> Relative Error: 0.0009462566679734822\n",
      "Iteration: 179 ==> Relative Error: 0.0009282313344038876\n",
      "Iteration: 180 ==> Relative Error: 0.0009105499848406652\n",
      "Iteration: 181 ==> Relative Error: 0.0008932067146168166\n",
      "Iteration: 182 ==> Relative Error: 0.0008761939970826653\n",
      "Iteration: 183 ==> Relative Error: 0.0008595063655710444\n",
      "Iteration: 184 ==> Relative Error: 0.0008431368229780722\n",
      "Iteration: 185 ==> Relative Error: 0.0008270798662454431\n",
      "Iteration: 186 ==> Relative Error: 0.0008113287182073946\n",
      "Iteration: 187 ==> Relative Error: 0.0007958782247900555\n",
      "Iteration: 188 ==> Relative Error: 0.0007807218459798383\n",
      "Iteration: 189 ==> Relative Error: 0.000765854624514903\n",
      "Iteration: 190 ==> Relative Error: 0.0007512703582038838\n",
      "Iteration: 191 ==> Relative Error: 0.0007369642573506414\n",
      "Iteration: 192 ==> Relative Error: 0.0007229301709409305\n",
      "Iteration: 193 ==> Relative Error: 0.0007091636476406691\n",
      "Iteration: 194 ==> Relative Error: 0.0006956589459176779\n",
      "Iteration: 195 ==> Relative Error: 0.000682411600711932\n",
      "Iteration: 196 ==> Relative Error: 0.0006694160500591464\n",
      "Iteration: 197 ==> Relative Error: 0.0006566681006950636\n",
      "Iteration: 198 ==> Relative Error: 0.0006441623827098961\n",
      "Iteration: 199 ==> Relative Error: 0.0006318948615611418\n",
      "Iteration: 200 ==> Relative Error: 0.000619860433798752\n",
      "Iteration: 201 ==> Relative Error: 0.0006080552015917155\n",
      "Iteration: 202 ==> Relative Error: 0.0005964741145960703\n",
      "Iteration: 203 ==> Relative Error: 0.0005851135383639744\n",
      "Iteration: 204 ==> Relative Error: 0.0005739687416459166\n",
      "Iteration: 205 ==> Relative Error: 0.0005630360913830558\n",
      "Iteration: 206 ==> Relative Error: 0.0005523110042078297\n",
      "Iteration: 207 ==> Relative Error: 0.0005417900603360826\n",
      "Iteration: 208 ==> Relative Error: 0.0005314688332372336\n",
      "Iteration: 209 ==> Relative Error: 0.000521344032103979\n",
      "Iteration: 210 ==> Relative Error: 0.0005114114422357032\n",
      "Iteration: 211 ==> Relative Error: 0.0005016678851174761\n",
      "Iteration: 212 ==> Relative Error: 0.0004921091986821868\n",
      "Iteration: 213 ==> Relative Error: 0.00048273241075066193\n",
      "Iteration: 214 ==> Relative Error: 0.00047353360960888425\n",
      "Iteration: 215 ==> Relative Error: 0.0004645098340211542\n",
      "Iteration: 216 ==> Relative Error: 0.0004556572948178699\n",
      "Iteration: 217 ==> Relative Error: 0.000446973199157199\n",
      "Iteration: 218 ==> Relative Error: 0.00043845388675526963\n",
      "Iteration: 219 ==> Relative Error: 0.00043009667014403633\n",
      "Iteration: 220 ==> Relative Error: 0.00042189805855621525\n",
      "Iteration: 221 ==> Relative Error: 0.0004138554571670947\n",
      "Iteration: 222 ==> Relative Error: 0.000405965425689146\n",
      "Iteration: 223 ==> Relative Error: 0.0003982255318114335\n",
      "Iteration: 224 ==> Relative Error: 0.0003906325328515179\n",
      "Iteration: 225 ==> Relative Error: 0.00038318401301035864\n",
      "Iteration: 226 ==> Relative Error: 0.0003758768315993685\n",
      "Iteration: 227 ==> Relative Error: 0.0003687087064582245\n",
      "Iteration: 228 ==> Relative Error: 0.0003616766033160525\n",
      "Iteration: 229 ==> Relative Error: 0.00035477832641604993\n",
      "Iteration: 230 ==> Relative Error: 0.00034801097790855876\n",
      "Iteration: 231 ==> Relative Error: 0.000341372438676291\n",
      "Iteration: 232 ==> Relative Error: 0.00033485985810986947\n",
      "Iteration: 233 ==> Relative Error: 0.00032847124566796367\n",
      "Iteration: 234 ==> Relative Error: 0.0003222039075516158\n",
      "Iteration: 235 ==> Relative Error: 0.00031605587251527583\n",
      "Iteration: 236 ==> Relative Error: 0.0003100245319072678\n",
      "Iteration: 237 ==> Relative Error: 0.0003041080209827822\n",
      "Iteration: 238 ==> Relative Error: 0.0002983038192663634\n",
      "Iteration: 239 ==> Relative Error: 0.0002926101330298191\n",
      "Iteration: 240 ==> Relative Error: 0.00028702455211133135\n",
      "Iteration: 241 ==> Relative Error: 0.00028154534627195085\n",
      "Iteration: 242 ==> Relative Error: 0.0002761701487354439\n",
      "Iteration: 243 ==> Relative Error: 0.00027089733137021315\n",
      "Iteration: 244 ==> Relative Error: 0.00026572465243641214\n",
      "Iteration: 245 ==> Relative Error: 0.00026065050399402595\n",
      "Iteration: 246 ==> Relative Error: 0.0002556727155341171\n",
      "Iteration: 247 ==> Relative Error: 0.00025078976427699294\n",
      "Iteration: 248 ==> Relative Error: 0.000245999552966777\n",
      "Iteration: 249 ==> Relative Error: 0.00024130061727418723\n",
      "Iteration: 250 ==> Relative Error: 0.0002366909495092745\n",
      "Iteration: 251 ==> Relative Error: 0.0002321691379626884\n",
      "Iteration: 252 ==> Relative Error: 0.00022773321420940432\n",
      "Iteration: 253 ==> Relative Error: 0.0002233818478751749\n",
      "Iteration: 254 ==> Relative Error: 0.0002191131706678046\n",
      "Iteration: 255 ==> Relative Error: 0.00021492587206896566\n",
      "Iteration: 256 ==> Relative Error: 0.00021081814345535677\n",
      "Iteration: 257 ==> Relative Error: 0.00020678874258761386\n",
      "Iteration: 258 ==> Relative Error: 0.00020283592181810772\n",
      "Iteration: 259 ==> Relative Error: 0.00019895848704187122\n",
      "Iteration: 260 ==> Relative Error: 0.00019515476358953325\n",
      "Iteration: 261 ==> Relative Error: 0.00019142360095717595\n",
      "Iteration: 262 ==> Relative Error: 0.0001877633595909781\n",
      "Iteration: 263 ==> Relative Error: 0.00018417295394084466\n",
      "Iteration: 264 ==> Relative Error: 0.00018065082495610937\n",
      "Iteration: 265 ==> Relative Error: 0.00017719590584148833\n",
      "Iteration: 266 ==> Relative Error: 0.00017380668757542762\n",
      "Iteration: 267 ==> Relative Error: 0.0001704821582198458\n",
      "Iteration: 268 ==> Relative Error: 0.0001672208595830898\n",
      "Iteration: 269 ==> Relative Error: 0.00016402181936687029\n",
      "Iteration: 270 ==> Relative Error: 0.00016088363902200614\n",
      "Iteration: 271 ==> Relative Error: 0.00015780538235104816\n",
      "Iteration: 272 ==> Relative Error: 0.0001547856819108773\n",
      "Iteration: 273 ==> Relative Error: 0.00015182365347800856\n",
      "Iteration: 274 ==> Relative Error: 0.0001489179945627013\n",
      "Iteration: 275 ==> Relative Error: 0.0001460678381619299\n",
      "Iteration: 276 ==> Relative Error: 0.00014327192375514209\n",
      "Iteration: 277 ==> Relative Error: 0.0001405294284837531\n",
      "Iteration: 278 ==> Relative Error: 0.00013783913424501724\n",
      "Iteration: 279 ==> Relative Error: 0.00013520025080696984\n",
      "Iteration: 280 ==> Relative Error: 0.0001326116089416627\n",
      "Iteration: 281 ==> Relative Error: 0.0001300724482737576\n",
      "Iteration: 282 ==> Relative Error: 0.00012758162691387502\n",
      "Iteration: 283 ==> Relative Error: 0.0001251384261373213\n",
      "Iteration: 284 ==> Relative Error: 0.00012274175663210823\n",
      "Iteration: 285 ==> Relative Error: 0.00012039091515831086\n",
      "Iteration: 286 ==> Relative Error: 0.00011808484762184994\n",
      "Iteration: 287 ==> Relative Error: 0.00011582288634368885\n",
      "Iteration: 288 ==> Relative Error: 0.00011360401265917482\n",
      "Iteration: 289 ==> Relative Error: 0.0001114275857207416\n",
      "Iteration: 290 ==> Relative Error: 0.00010929262700782628\n",
      "Iteration: 291 ==> Relative Error: 0.00010719852032933912\n",
      "Iteration: 292 ==> Relative Error: 0.00010514431103643705\n",
      "Iteration: 293 ==> Relative Error: 0.00010312941635306725\n"
     ]
    },
    {
     "name": "stdout",
     "output_type": "stream",
     "text": [
      "Iteration: 294 ==> Relative Error: 0.00010115292431828253\n",
      "Iteration: 295 ==> Relative Error: 9.921426585099823e-05\n",
      "Iteration: 296 ==> Relative Error: 9.731255854994186e-05\n",
      "Iteration: 297 ==> Relative Error: 9.544726200060094e-05\n",
      "Iteration: 298 ==> Relative Error: 9.361752341250952e-05\n",
      "Iteration: 299 ==> Relative Error: 9.182282441068077e-05\n",
      "Iteration: 300 ==> Relative Error: 9.006234524799712e-05\n",
      "Iteration: 301 ==> Relative Error: 8.833558787579323e-05\n",
      "Iteration: 302 ==> Relative Error: 8.664175327951878e-05\n",
      "Iteration: 303 ==> Relative Error: 8.498037023844864e-05\n",
      "Iteration: 304 ==> Relative Error: 8.335067449187547e-05\n",
      "Iteration: 305 ==> Relative Error: 8.175220677212855e-05\n",
      "Iteration: 306 ==> Relative Error: 8.018422763243356e-05\n",
      "Iteration: 307 ==> Relative Error: 7.864630091995653e-05\n",
      "Iteration: 308 ==> Relative Error: 7.713771195002425e-05\n",
      "Iteration: 309 ==> Relative Error: 7.56580426467011e-05\n",
      "Iteration: 310 ==> Relative Error: 7.420660557608455e-05\n",
      "Iteration: 311 ==> Relative Error: 7.278299938816708e-05\n",
      "Iteration: 312 ==> Relative Error: 7.138655457333812e-05\n",
      "Iteration: 313 ==> Relative Error: 7.001689132711035e-05\n",
      "Iteration: 314 ==> Relative Error: 6.867336850968144e-05\n",
      "Iteration: 315 ==> Relative Error: 6.73556166340898e-05\n",
      "Iteration: 316 ==> Relative Error: 6.60630153931203e-05\n",
      "Iteration: 317 ==> Relative Error: 6.479521393734587e-05\n",
      "Iteration: 318 ==> Relative Error: 6.355161267634213e-05\n",
      "Iteration: 319 ==> Relative Error: 6.233187556353876e-05\n",
      "Iteration: 320 ==> Relative Error: 6.113542552125275e-05\n",
      "Iteration: 321 ==> Relative Error: 5.996194023609431e-05\n",
      "Iteration: 322 ==> Relative Error: 5.881085807019113e-05\n",
      "Iteration: 323 ==> Relative Error: 5.768187401427416e-05\n",
      "Iteration: 324 ==> Relative Error: 5.657444964442015e-05\n",
      "Iteration: 325 ==> Relative Error: 5.54882887743246e-05\n",
      "Iteration: 326 ==> Relative Error: 5.44228704717618e-05\n",
      "Iteration: 327 ==> Relative Error: 5.337791357076383e-05\n",
      "Iteration: 328 ==> Relative Error: 5.235291448174992e-05\n",
      "Iteration: 329 ==> Relative Error: 5.134760413722863e-05\n",
      "Iteration: 330 ==> Relative Error: 5.036149757562949e-05\n",
      "Iteration: 331 ==> Relative Error: 4.9394336980934674e-05\n",
      "Iteration: 332 ==> Relative Error: 4.8445650649724665e-05\n",
      "Iteration: 333 ==> Relative Error: 4.7515194658674753e-05\n",
      "Iteration: 334 ==> Relative Error: 4.6602516344956895e-05\n",
      "Iteration: 335 ==> Relative Error: 4.570737926578224e-05\n",
      "Iteration: 336 ==> Relative Error: 4.482934544785875e-05\n",
      "Iteration: 337 ==> Relative Error: 4.396819054666041e-05\n",
      "Iteration: 338 ==> Relative Error: 4.312349111260308e-05\n",
      "Iteration: 339 ==> Relative Error: 4.229503266801077e-05\n",
      "Iteration: 340 ==> Relative Error: 4.14824072019706e-05\n",
      "Iteration: 341 ==> Relative Error: 4.0685409432450353e-05\n",
      "Iteration: 342 ==> Relative Error: 3.9903642703515856e-05\n",
      "Iteration: 343 ==> Relative Error: 3.91369128800646e-05\n",
      "Iteration: 344 ==> Relative Error: 3.8384838958082934e-05\n",
      "Iteration: 345 ==> Relative Error: 3.7647233098752296e-05\n",
      "Iteration: 346 ==> Relative Error: 3.692372663711829e-05\n",
      "Iteration: 347 ==> Relative Error: 3.62141414668279e-05\n",
      "Iteration: 348 ==> Relative Error: 3.551812109405288e-05\n",
      "Iteration: 349 ==> Relative Error: 3.483549544084501e-05\n",
      "Iteration: 350 ==> Relative Error: 3.4165920827500644e-05\n",
      "Iteration: 351 ==> Relative Error: 3.350923467099541e-05\n",
      "Iteration: 352 ==> Relative Error: 3.286510299775308e-05\n",
      "Iteration: 353 ==> Relative Error: 3.2233372158409214e-05\n",
      "Iteration: 354 ==> Relative Error: 3.161372107374691e-05\n",
      "Iteration: 355 ==> Relative Error: 3.100600135856809e-05\n",
      "Iteration: 356 ==> Relative Error: 3.0409902299990752e-05\n",
      "Iteration: 357 ==> Relative Error: 2.9825283332924322e-05\n",
      "Iteration: 358 ==> Relative Error: 2.9251843949281185e-05\n",
      "Iteration: 359 ==> Relative Error: 2.868945009861633e-05\n",
      "Iteration: 360 ==> Relative Error: 2.813781192537539e-05\n",
      "Iteration: 361 ==> Relative Error: 2.7596801470756344e-05\n",
      "Iteration: 362 ==> Relative Error: 2.706613716061034e-05\n",
      "Iteration: 363 ==> Relative Error: 2.654569818772647e-05\n",
      "Iteration: 364 ==> Relative Error: 2.6035213622251738e-05\n",
      "Iteration: 365 ==> Relative Error: 2.5534567028630314e-05\n",
      "Iteration: 366 ==> Relative Error: 2.5043496192170577e-05\n",
      "Iteration: 367 ==> Relative Error: 2.456189094785061e-05\n",
      "Iteration: 368 ==> Relative Error: 2.4089497642335288e-05\n",
      "Iteration: 369 ==> Relative Error: 2.3626211383155073e-05\n",
      "Iteration: 370 ==> Relative Error: 2.3171787385355635e-05\n",
      "Iteration: 371 ==> Relative Error: 2.272612569116141e-05\n",
      "Iteration: 372 ==> Relative Error: 2.2288988572906624e-05\n",
      "Iteration: 373 ==> Relative Error: 2.1860281787539274e-05\n",
      "Iteration: 374 ==> Relative Error: 2.143977641304683e-05\n",
      "Iteration: 375 ==> Relative Error: 2.1027381814365972e-05\n",
      "Iteration: 376 ==> Relative Error: 2.0622876397984102e-05\n",
      "Iteration: 377 ==> Relative Error: 2.0226174547712464e-05\n",
      "Iteration: 378 ==> Relative Error: 1.9837061858730554e-05\n",
      "Iteration: 379 ==> Relative Error: 1.9455456967039027e-05\n",
      "Iteration: 380 ==> Relative Error: 1.9081152861295208e-05\n",
      "Iteration: 381 ==> Relative Error: 1.871407216218186e-05\n",
      "Iteration: 382 ==> Relative Error: 1.835401386699897e-05\n",
      "Iteration: 383 ==> Relative Error: 1.8000905152632948e-05\n",
      "Iteration: 384 ==> Relative Error: 1.7654552315754405e-05\n",
      "Iteration: 385 ==> Relative Error: 1.731488549160267e-05\n",
      "Iteration: 386 ==> Relative Error: 1.698171714449475e-05\n",
      "Iteration: 387 ==> Relative Error: 1.6654981416330782e-05\n",
      "Iteration: 388 ==> Relative Error: 1.633449681086434e-05\n",
      "Iteration: 389 ==> Relative Error: 1.6020200888228543e-05\n",
      "Iteration: 390 ==> Relative Error: 1.571191832590717e-05\n",
      "Iteration: 391 ==> Relative Error: 1.5409589888386094e-05\n",
      "Iteration: 392 ==> Relative Error: 1.5113045364830039e-05\n",
      "Iteration: 393 ==> Relative Error: 1.4822229143221648e-05\n",
      "Iteration: 394 ==> Relative Error: 1.4536977075641305e-05\n",
      "Iteration: 395 ==> Relative Error: 1.4257235961639758e-05\n",
      "Iteration: 396 ==> Relative Error: 1.398284684648065e-05\n",
      "Iteration: 397 ==> Relative Error: 1.371375971779623e-05\n",
      "Iteration: 398 ==> Relative Error: 1.3449820701043947e-05\n",
      "Iteration: 399 ==> Relative Error: 1.3190982519493211e-05\n",
      "Iteration: 400 ==> Relative Error: 1.2937096461190493e-05\n",
      "Iteration: 401 ==> Relative Error: 1.268811781573098e-05\n",
      "Iteration: 402 ==> Relative Error: 1.2443902218828655e-05\n",
      "Iteration: 403 ==> Relative Error: 1.22044078315846e-05\n",
      "Iteration: 404 ==> Relative Error: 1.1969495336148268e-05\n",
      "Iteration: 405 ==> Relative Error: 1.1739124846276206e-05\n",
      "Iteration: 406 ==> Relative Error: 1.1513161420124088e-05\n",
      "Iteration: 407 ==> Relative Error: 1.1291567700306998e-05\n",
      "Iteration: 408 ==> Relative Error: 1.10742130207123e-05\n",
      "Iteration: 409 ==> Relative Error: 1.0861062203718462e-05\n",
      "Iteration: 410 ==> Relative Error: 1.0651988907557173e-05\n",
      "Iteration: 411 ==> Relative Error: 1.0446959999346896e-05\n",
      "Iteration: 412 ==> Relative Error: 1.0245852834234596e-05\n",
      "Iteration: 413 ==> Relative Error: 1.0048636547054182e-05\n",
      "Iteration: 414 ==> Relative Error: 9.855192701610787e-06\n",
      "Iteration: 415 ==> Relative Error: 9.665492001677163e-06\n",
      "Iteration: 416 ==> Relative Error: 9.479419703083826e-06\n",
      "Iteration: 417 ==> Relative Error: 9.296948506016018e-06\n",
      "Iteration: 418 ==> Relative Error: 9.117967269276097e-06\n",
      "Iteration: 419 ==> Relative Error: 8.942450420359656e-06\n",
      "Iteration: 420 ==> Relative Error: 8.77029044634444e-06\n",
      "Iteration: 421 ==> Relative Error: 8.601463395243533e-06\n",
      "Iteration: 422 ==> Relative Error: 8.435864896756636e-06\n",
      "Iteration: 423 ==> Relative Error: 8.273472781688472e-06\n",
      "Iteration: 424 ==> Relative Error: 8.114186197053644e-06\n",
      "Iteration: 425 ==> Relative Error: 7.957984224954695e-06\n",
      "Iteration: 426 ==> Relative Error: 7.804769130312845e-06\n",
      "Iteration: 427 ==> Relative Error: 7.654521562057701e-06\n",
      "Iteration: 428 ==> Relative Error: 7.507146825525158e-06\n",
      "Iteration: 429 ==> Relative Error: 7.362626931248152e-06\n",
      "Iteration: 430 ==> Relative Error: 7.220870231841461e-06\n",
      "Iteration: 431 ==> Relative Error: 7.081860012983842e-06\n",
      "Iteration: 432 ==> Relative Error: 6.9455073013704684e-06\n",
      "Iteration: 433 ==> Relative Error: 6.811796776321341e-06\n",
      "Iteration: 434 ==> Relative Error: 6.68064240963077e-06\n",
      "Iteration: 435 ==> Relative Error: 6.552029869749861e-06\n",
      "Iteration: 436 ==> Relative Error: 6.425875763963674e-06\n",
      "Iteration: 437 ==> Relative Error: 6.3021669840191905e-06\n"
     ]
    },
    {
     "name": "stdout",
     "output_type": "stream",
     "text": [
      "Iteration: 438 ==> Relative Error: 6.180822705457954e-06\n",
      "Iteration: 439 ==> Relative Error: 6.0618308838608926e-06\n",
      "Iteration: 440 ==> Relative Error: 5.94511326037879e-06\n",
      "Iteration: 441 ==> Relative Error: 5.830658786261561e-06\n",
      "Iteration: 442 ==> Relative Error: 5.718391478160739e-06\n",
      "Iteration: 443 ==> Relative Error: 5.6083013697258974e-06\n",
      "Iteration: 444 ==> Relative Error: 5.500314947829089e-06\n",
      "Iteration: 445 ==> Relative Error: 5.394423020873723e-06\n",
      "Iteration: 446 ==> Relative Error: 5.2905543070533954e-06\n",
      "Iteration: 447 ==> Relative Error: 5.188700560709678e-06\n",
      "Iteration: 448 ==> Relative Error: 5.088792673031303e-06\n",
      "Iteration: 449 ==> Relative Error: 4.9908232233030995e-06\n",
      "Iteration: 450 ==> Relative Error: 4.894725264799044e-06\n",
      "Iteration: 451 ==> Relative Error: 4.800492147635945e-06\n",
      "Iteration: 452 ==> Relative Error: 4.7080588632953666e-06\n",
      "Iteration: 453 ==> Relative Error: 4.617419594189052e-06\n",
      "Iteration: 454 ==> Relative Error: 4.528511409156216e-06\n",
      "Iteration: 455 ==> Relative Error: 4.441329089582707e-06\n",
      "Iteration: 456 ==> Relative Error: 4.355811595770878e-06\n",
      "Iteration: 457 ==> Relative Error: 4.271954434860488e-06\n",
      "Iteration: 458 ==> Relative Error: 4.189698407027254e-06\n",
      "Iteration: 459 ==> Relative Error: 4.109039651452757e-06\n",
      "Iteration: 460 ==> Relative Error: 4.029920795290393e-06\n",
      "Iteration: 461 ==> Relative Error: 3.952338567581893e-06\n",
      "Iteration: 462 ==> Relative Error: 3.876237245964675e-06\n",
      "Iteration: 463 ==> Relative Error: 3.8016141934312667e-06\n",
      "Iteration: 464 ==> Relative Error: 3.7284154394763243e-06\n",
      "Iteration: 465 ==> Relative Error: 3.656638802879718e-06\n",
      "Iteration: 466 ==> Relative Error: 3.5862319172842995e-06\n",
      "Iteration: 467 ==> Relative Error: 3.5171931522264565e-06\n",
      "Iteration: 468 ==> Relative Error: 3.4494717021490776e-06\n",
      "Iteration: 469 ==> Relative Error: 3.383066414663583e-06\n",
      "Iteration: 470 ==> Relative Error: 3.317928029979659e-06\n",
      "Iteration: 471 ==> Relative Error: 3.2540558393754625e-06\n",
      "Iteration: 472 ==> Relative Error: 3.1914019920850917e-06\n",
      "Iteration: 473 ==> Relative Error: 3.1299662556069145e-06\n",
      "Iteration: 474 ==> Relative Error: 3.0697022576909253e-06\n",
      "Iteration: 475 ==> Relative Error: 3.0106101068862604e-06\n",
      "Iteration: 476 ==> Relative Error: 2.9526447948674252e-06\n",
      "Iteration: 477 ==> Relative Error: 2.8958068407521044e-06\n",
      "Iteration: 478 ==> Relative Error: 2.8400525624053224e-06\n",
      "Iteration: 479 ==> Relative Error: 2.7853828340032236e-06\n",
      "Iteration: 480 ==> Relative Error: 2.731755283474539e-06\n",
      "Iteration: 481 ==> Relative Error: 2.679171113553852e-06\n",
      "Iteration: 482 ==> Relative Error: 2.6275891548947924e-06\n",
      "Iteration: 483 ==> Relative Error: 2.577010961566977e-06\n",
      "Iteration: 484 ==> Relative Error: 2.527396616049516e-06\n",
      "Iteration: 485 ==> Relative Error: 2.4787479209264243e-06\n",
      "Iteration: 486 ==> Relative Error: 2.4310261191253114e-06\n",
      "Iteration: 487 ==> Relative Error: 2.3842333136305407e-06\n",
      "Iteration: 488 ==> Relative Error: 2.3383318759460073e-06\n",
      "Iteration: 489 ==> Relative Error: 2.2933241668540086e-06\n",
      "Iteration: 490 ==> Relative Error: 2.2491736703903793e-06\n",
      "Iteration: 491 ==> Relative Error: 2.205882983569713e-06\n",
      "Iteration: 492 ==> Relative Error: 2.163416619471935e-06\n",
      "Iteration: 493 ==> Relative Error: 2.121777427653617e-06\n",
      "Iteration: 494 ==> Relative Error: 2.080930982243151e-06\n",
      "Iteration: 495 ==> Relative Error: 2.0408803084777155e-06\n",
      "Iteration: 496 ==> Relative Error: 2.0015919705948512e-06\n",
      "Iteration: 497 ==> Relative Error: 1.963069205854892e-06\n",
      "Iteration: 498 ==> Relative Error: 1.925279541247898e-06\n",
      "Iteration: 499 ==> Relative Error: 1.8882263949138116e-06\n",
      "Iteration: 500 ==> Relative Error: 1.8518782398084677e-06\n",
      "Iteration: 501 ==> Relative Error: 1.8162386587009705e-06\n",
      "Iteration: 502 ==> Relative Error: 1.7812770050767021e-06\n",
      "Iteration: 503 ==> Relative Error: 1.7469970377981353e-06\n",
      "Iteration: 504 ==> Relative Error: 1.7133690117903172e-06\n",
      "Iteration: 505 ==> Relative Error: 1.6803968031726024e-06\n",
      "Iteration: 506 ==> Relative Error: 1.6480515122839246e-06\n",
      "Iteration: 507 ==> Relative Error: 1.6163371605325912e-06\n",
      "Iteration: 508 ==> Relative Error: 1.5852256693456194e-06\n",
      "Iteration: 509 ==> Relative Error: 1.55472117997724e-06\n",
      "Iteration: 510 ==> Relative Error: 1.5247964223010998e-06\n",
      "Iteration: 511 ==> Relative Error: 1.495455644141359e-06\n",
      "Iteration: 512 ==> Relative Error: 1.4666723302833265e-06\n",
      "Iteration: 513 ==> Relative Error: 1.438450845200369e-06\n",
      "Iteration: 514 ==> Relative Error: 1.410765441202311e-06\n",
      "Iteration: 515 ==> Relative Error: 1.383620554302944e-06\n",
      "Iteration: 516 ==> Relative Error: 1.3569911601270467e-06\n",
      "Iteration: 517 ==> Relative Error: 1.330881786941338e-06\n",
      "Iteration: 518 ==> Relative Error: 1.3052681131491187e-06\n",
      "Iteration: 519 ==> Relative Error: 1.2801547399772216e-06\n",
      "Iteration: 520 ==> Relative Error: 1.255518036029052e-06\n",
      "Iteration: 521 ==> Relative Error: 1.2313626662365012e-06\n",
      "Iteration: 522 ==> Relative Error: 1.2076656463451467e-06\n",
      "Iteration: 523 ==> Relative Error: 1.1844317113831132e-06\n",
      "Iteration: 524 ==> Relative Error: 1.1616385332991178e-06\n",
      "Iteration: 525 ==> Relative Error: 1.1392908825663216e-06\n",
      "Iteration: 526 ==> Relative Error: 1.1173670511982255e-06\n",
      "Iteration: 527 ==> Relative Error: 1.0958718613413173e-06\n",
      "Iteration: 528 ==> Relative Error: 1.0747842070813235e-06\n",
      "Iteration: 529 ==> Relative Error: 1.0541089481321844e-06\n",
      "Iteration: 530 ==> Relative Error: 1.0338255688374563e-06\n",
      "Iteration: 531 ==> Relative Error: 1.0139389580952736e-06\n",
      "Iteration: 532 ==> Relative Error: 9.944291580153375e-07\n",
      "Iteration: 533 ==> Relative Error: 9.753010922670807e-07\n",
      "Iteration: 534 ==> Relative Error: 9.565353629214349e-07\n",
      "Iteration: 535 ==> Relative Error: 9.381369032033122e-07\n",
      "Iteration: 536 ==> Relative Error: 9.200868475329524e-07\n",
      "Iteration: 537 ==> Relative Error: 9.023901488538922e-07\n",
      "Iteration: 538 ==> Relative Error: 8.850284594632853e-07\n",
      "Iteration: 539 ==> Relative Error: 8.680067425169814e-07\n",
      "Iteration: 540 ==> Relative Error: 8.513071562371536e-07\n",
      "Iteration: 541 ==> Relative Error: 8.349346674778793e-07\n",
      "Iteration: 542 ==> Relative Error: 8.188719146990976e-07\n",
      "Iteration: 543 ==> Relative Error: 8.031238730692789e-07\n",
      "Iteration: 544 ==> Relative Error: 7.876736613226046e-07\n",
      "Iteration: 545 ==> Relative Error: 7.725262426707257e-07\n",
      "Iteration: 546 ==> Relative Error: 7.576651943998772e-07\n",
      "Iteration: 547 ==> Relative Error: 7.430954772343616e-07\n",
      "Iteration: 548 ==> Relative Error: 7.288011127203487e-07\n",
      "Iteration: 549 ==> Relative Error: 7.147870513849194e-07\n",
      "Iteration: 550 ==> Relative Error: 7.010377499025989e-07\n",
      "Iteration: 551 ==> Relative Error: 6.875581437529307e-07\n",
      "Iteration: 552 ==> Relative Error: 6.743331035930143e-07\n",
      "Iteration: 553 ==> Relative Error: 6.613675527857083e-07\n",
      "Iteration: 554 ==> Relative Error: 6.486467751803801e-07\n",
      "Iteration: 555 ==> Relative Error: 6.361756678748996e-07\n",
      "Iteration: 556 ==> Relative Error: 6.239399090500315e-07\n",
      "Iteration: 557 ==> Relative Error: 6.119443759955862e-07\n",
      "Iteration: 558 ==> Relative Error: 6.001751302904229e-07\n",
      "Iteration: 559 ==> Relative Error: 5.886370236318898e-07\n",
      "Iteration: 560 ==> Relative Error: 5.773164925299979e-07\n",
      "Iteration: 561 ==> Relative Error: 5.662183600329758e-07\n",
      "Iteration: 562 ==> Relative Error: 5.553294198478546e-07\n",
      "Iteration: 563 ==> Relative Error: 5.44654468881552e-07\n",
      "Iteration: 564 ==> Relative Error: 5.341806565269149e-07\n",
      "Iteration: 565 ==> Relative Error: 5.239127423609728e-07\n",
      "Iteration: 566 ==> Relative Error: 5.138382166498533e-07\n",
      "Iteration: 567 ==> Relative Error: 5.039618066576799e-07\n",
      "Iteration: 568 ==> Relative Error: 4.942713337332552e-07\n",
      "Iteration: 569 ==> Relative Error: 4.847714890060222e-07\n",
      "Iteration: 570 ==> Relative Error: 4.7545041743077154e-07\n",
      "Iteration: 571 ==> Relative Error: 4.663127712580662e-07\n",
      "Iteration: 572 ==> Relative Error: 4.573470051640242e-07\n",
      "Iteration: 573 ==> Relative Error: 4.4855773483414034e-07\n",
      "Iteration: 574 ==> Relative Error: 4.399337214039451e-07\n",
      "Iteration: 575 ==> Relative Error: 4.3147953659893367e-07\n",
      "Iteration: 576 ==> Relative Error: 4.2318423578839504e-07\n",
      "Iteration: 577 ==> Relative Error: 4.150523504176022e-07\n",
      "Iteration: 578 ==> Relative Error: 4.0707322228494225e-07\n",
      "Iteration: 579 ==> Relative Error: 3.992513391930754e-07\n",
      "Iteration: 580 ==> Relative Error: 3.9157632247199896e-07\n"
     ]
    },
    {
     "name": "stdout",
     "output_type": "stream",
     "text": [
      "Iteration: 581 ==> Relative Error: 3.840526151567064e-07\n",
      "Iteration: 582 ==> Relative Error: 3.766701068039075e-07\n",
      "Iteration: 583 ==> Relative Error: 3.694331967064742e-07\n",
      "Iteration: 584 ==> Relative Error: 3.6233203994270704e-07\n",
      "Iteration: 585 ==> Relative Error: 3.553709869811931e-07\n",
      "Iteration: 586 ==> Relative Error: 3.485404478984577e-07\n",
      "Iteration: 587 ==> Relative Error: 3.418447270822351e-07\n",
      "Iteration: 588 ==> Relative Error: 3.352744824375728e-07\n",
      "Iteration: 589 ==> Relative Error: 3.2883397085707427e-07\n",
      "Iteration: 590 ==> Relative Error: 3.2251409249506864e-07\n",
      "Iteration: 591 ==> Relative Error: 3.163190549847293e-07\n",
      "Iteration: 592 ==> Relative Error: 3.1023999118415425e-07\n",
      "Iteration: 593 ==> Relative Error: 3.0428106154684903e-07\n",
      "Iteration: 594 ==> Relative Error: 2.9843362871199486e-07\n",
      "Iteration: 595 ==> Relative Error: 2.9270180098158115e-07\n",
      "Iteration: 596 ==> Relative Error: 2.870771629295234e-07\n",
      "Iteration: 597 ==> Relative Error: 2.815637730676321e-07\n",
      "Iteration: 598 ==> Relative Error: 2.761534317820595e-07\n",
      "Iteration: 599 ==> Relative Error: 2.708501473716428e-07\n",
      "Iteration: 600 ==> Relative Error: 2.6564593016863495e-07\n",
      "Iteration: 601 ==> Relative Error: 2.6054473733671413e-07\n",
      "Iteration: 602 ==> Relative Error: 2.5553878133655424e-07\n",
      "Iteration: 603 ==> Relative Error: 2.5063197017020525e-07\n",
      "Iteration: 604 ==> Relative Error: 2.4581671553657627e-07\n",
      "Iteration: 605 ==> Relative Error: 2.410968723236581e-07\n",
      "Iteration: 606 ==> Relative Error: 2.3646504537206695e-07\n",
      "Iteration: 607 ==> Relative Error: 2.3192503851591166e-07\n",
      "Iteration: 608 ==> Relative Error: 2.2746964358430827e-07\n",
      "Iteration: 609 ==> Relative Error: 2.2310261380931032e-07\n",
      "Iteration: 610 ==> Relative Error: 2.1881692348036322e-07\n",
      "Iteration: 611 ==> Relative Error: 2.146162735234066e-07\n",
      "Iteration: 612 ==> Relative Error: 2.104938152484308e-07\n",
      "Iteration: 613 ==> Relative Error: 2.064531989831741e-07\n",
      "Iteration: 614 ==> Relative Error: 2.0248774924075214e-07\n",
      "Iteration: 615 ==> Relative Error: 1.9860106378416464e-07\n",
      "Iteration: 616 ==> Relative Error: 1.9478663486897698e-07\n",
      "Iteration: 617 ==> Relative Error: 1.9104800943846955e-07\n",
      "Iteration: 618 ==> Relative Error: 1.8737884305049818e-07\n",
      "Iteration: 619 ==> Relative Error: 1.8378263107943243e-07\n",
      "Iteration: 620 ==> Relative Error: 1.8025318856740946e-07\n",
      "Iteration: 621 ==> Relative Error: 1.7679395979056618e-07\n",
      "Iteration: 622 ==> Relative Error: 1.7339891323476096e-07\n",
      "Iteration: 623 ==> Relative Error: 1.7007144321666614e-07\n",
      "Iteration: 624 ==> Relative Error: 1.6680566925393998e-07\n",
      "Iteration: 625 ==> Relative Error: 1.6360493381832391e-07\n",
      "Iteration: 626 ==> Relative Error: 1.6046350361434397e-07\n",
      "Iteration: 627 ==> Relative Error: 1.57384670866168e-07\n",
      "Iteration: 628 ==> Relative Error: 1.543628439437567e-07\n",
      "Iteration: 629 ==> Relative Error: 1.5140126502775026e-07\n",
      "Iteration: 630 ==> Relative Error: 1.484944816309963e-07\n",
      "Iteration: 631 ==> Relative Error: 1.45645686396192e-07\n",
      "Iteration: 632 ==> Relative Error: 1.4284956127789609e-07\n",
      "Iteration: 633 ==> Relative Error: 1.4010924877926253e-07\n",
      "Iteration: 634 ==> Relative Error: 1.3741956341402174e-07\n",
      "Iteration: 635 ==> Relative Error: 1.3478359862361228e-07\n",
      "Iteration: 636 ==> Relative Error: 1.321962960303144e-07\n",
      "Iteration: 637 ==> Relative Error: 1.296606999042095e-07\n",
      "Iteration: 638 ==> Relative Error: 1.2717187716963375e-07\n",
      "Iteration: 639 ==> Relative Error: 1.247328240148842e-07\n",
      "Iteration: 640 ==> Relative Error: 1.2233872790760045e-07\n",
      "Iteration: 641 ==> Relative Error: 1.1999253702270008e-07\n",
      "Iteration: 642 ==> Relative Error: 1.1768955681385813e-07\n",
      "Iteration: 643 ==> Relative Error: 1.1543268815283627e-07\n",
      "Iteration: 644 ==> Relative Error: 1.1321735158463142e-07\n",
      "Iteration: 645 ==> Relative Error: 1.110464004480885e-07\n",
      "Iteration: 646 ==> Relative Error: 1.0891536747069675e-07\n",
      "Iteration: 647 ==> Relative Error: 1.0682705880324345e-07\n",
      "Iteration: 648 ==> Relative Error: 1.0477711633102321e-07\n",
      "Iteration: 649 ==> Relative Error: 1.0276829988118936e-07\n",
      "Iteration: 650 ==> Relative Error: 1.0079635827428876e-07\n",
      "Iteration: 651 ==> Relative Error: 9.886400482875553e-08\n",
      "Iteration: 652 ==> Relative Error: 9.696709109470139e-08\n",
      "Iteration: 653 ==> Relative Error: 9.510828595413674e-08\n",
      "Iteration: 654 ==> Relative Error: 9.328354183367621e-08\n",
      "Iteration: 655 ==> Relative Error: 9.149548230205738e-08\n",
      "Iteration: 656 ==> Relative Error: 8.97401579415079e-08\n",
      "Iteration: 657 ==> Relative Error: 8.802014792377737e-08\n",
      "Iteration: 658 ==> Relative Error: 8.633159813729583e-08\n",
      "Iteration: 659 ==> Relative Error: 8.467704390789538e-08\n",
      "Iteration: 660 ==> Relative Error: 8.30527248334348e-08\n",
      "Iteration: 661 ==> Relative Error: 8.146113273449691e-08\n",
      "Iteration: 662 ==> Relative Error: 7.989859731694848e-08\n",
      "Iteration: 663 ==> Relative Error: 7.836756756172316e-08\n",
      "Iteration: 664 ==> Relative Error: 7.686446224366642e-08\n",
      "Iteration: 665 ==> Relative Error: 7.539168790881223e-08\n",
      "Iteration: 666 ==> Relative Error: 7.39457487963806e-08\n",
      "Iteration: 667 ==> Relative Error: 7.252900946639353e-08\n",
      "Iteration: 668 ==> Relative Error: 7.11380589909916e-08\n",
      "Iteration: 669 ==> Relative Error: 6.977522036653737e-08\n",
      "Iteration: 670 ==> Relative Error: 6.843716406392659e-08\n",
      "Iteration: 671 ==> Relative Error: 6.712617236240268e-08\n",
      "Iteration: 672 ==> Relative Error: 6.583899542564732e-08\n",
      "Iteration: 673 ==> Relative Error: 6.457787533582459e-08\n",
      "Iteration: 674 ==> Relative Error: 6.333964032029946e-08\n",
      "Iteration: 675 ==> Relative Error: 6.212649240762748e-08\n",
      "Iteration: 676 ==> Relative Error: 6.093533503715411e-08\n",
      "Iteration: 677 ==> Relative Error: 5.976833156013397e-08\n",
      "Iteration: 678 ==> Relative Error: 5.862245928922958e-08\n",
      "Iteration: 679 ==> Relative Error: 5.749984255527482e-08\n",
      "Iteration: 680 ==> Relative Error: 5.639753074338522e-08\n",
      "Iteration: 681 ==> Relative Error: 5.531761021373445e-08\n",
      "Iteration: 682 ==> Relative Error: 5.4257200372583686e-08\n",
      "Iteration: 683 ==> Relative Error: 5.321834984384838e-08\n",
      "Iteration: 684 ==> Relative Error: 5.21982463422101e-08\n",
      "Iteration: 685 ==> Relative Error: 5.1198901536289586e-08\n",
      "Iteration: 686 ==> Relative Error: 5.0217569947665535e-08\n",
      "Iteration: 687 ==> Relative Error: 4.925622637434619e-08\n",
      "Iteration: 688 ==> Relative Error: 4.8312190501942186e-08\n",
      "Iteration: 689 ==> Relative Error: 4.738740085526642e-08\n",
      "Iteration: 690 ==> Relative Error: 4.647924070764975e-08\n",
      "Iteration: 691 ==> Relative Error: 4.558961322755323e-08\n",
      "Iteration: 692 ==> Relative Error: 4.471596321054379e-08\n",
      "Iteration: 693 ==> Relative Error: 4.386015880767313e-08\n",
      "Iteration: 694 ==> Relative Error: 4.301970533129918e-08\n",
      "Iteration: 695 ==> Relative Error: 4.219643633790262e-08\n",
      "Iteration: 696 ==> Relative Error: 4.138791572479392e-08\n",
      "Iteration: 697 ==> Relative Error: 4.059594315369872e-08\n",
      "Iteration: 698 ==> Relative Error: 3.981813984095538e-08\n",
      "Iteration: 699 ==> Relative Error: 3.9056272372625374e-08\n",
      "Iteration: 700 ==> Relative Error: 3.830801747819391e-08\n",
      "Iteration: 701 ==> Relative Error: 3.757510870551664e-08\n",
      "Iteration: 702 ==> Relative Error: 3.685527784959599e-08\n",
      "Iteration: 703 ==> Relative Error: 3.6150225694180755e-08\n",
      "Iteration: 704 ==> Relative Error: 3.545773682679142e-08\n",
      "Iteration: 705 ==> Relative Error: 3.477948076788166e-08\n",
      "Iteration: 706 ==> Relative Error: 3.411329359046218e-08\n",
      "Iteration: 707 ==> Relative Error: 3.3460813691854666e-08\n",
      "Iteration: 708 ==> Relative Error: 3.281992746820518e-08\n",
      "Iteration: 709 ==> Relative Error: 3.2192242222962106e-08\n",
      "Iteration: 710 ==> Relative Error: 3.157569445170666e-08\n",
      "Iteration: 711 ==> Relative Error: 3.097186055803626e-08\n",
      "Iteration: 712 ==> Relative Error: 3.037872502928016e-08\n",
      "Iteration: 713 ==> Relative Error: 2.979783468019118e-08\n",
      "Iteration: 714 ==> Relative Error: 2.922722087904016e-08\n",
      "Iteration: 715 ==> Relative Error: 2.8668400470947904e-08\n",
      "Iteration: 716 ==> Relative Error: 2.8119451642367582e-08\n",
      "Iteration: 717 ==> Relative Error: 2.7581862089479833e-08\n",
      "Iteration: 718 ==> Relative Error: 2.7053753690377174e-08\n",
      "Iteration: 719 ==> Relative Error: 2.6536586775604096e-08\n",
      "Iteration: 720 ==> Relative Error: 2.602852659943728e-08\n",
      "Iteration: 721 ==> Relative Error: 2.5531005080770746e-08\n",
      "Iteration: 722 ==> Relative Error: 2.504223033080119e-08\n",
      "Iteration: 723 ==> Relative Error: 2.4563606887815967e-08\n"
     ]
    },
    {
     "name": "stdout",
     "output_type": "stream",
     "text": [
      "Iteration: 724 ==> Relative Error: 2.4093384196988265e-08\n",
      "Iteration: 725 ==> Relative Error: 2.3632939612205604e-08\n",
      "Iteration: 726 ==> Relative Error: 2.3180563651309796e-08\n",
      "Iteration: 727 ==> Relative Error: 2.273760667850957e-08\n",
      "Iteration: 728 ==> Relative Error: 2.230239836481767e-08\n",
      "Iteration: 729 ==> Relative Error: 2.187626358947585e-08\n",
      "Iteration: 730 ==> Relative Error: 2.1457570376321136e-08\n",
      "Iteration: 731 ==> Relative Error: 2.1047617856330426e-08\n",
      "Iteration: 732 ==> Relative Error: 2.064481192588485e-08\n",
      "Iteration: 733 ==> Relative Error: 2.025042600386338e-08\n",
      "Iteration: 734 ==> Relative Error: 1.9862903132810587e-08\n",
      "Iteration: 735 ==> Relative Error: 1.9483491976476596e-08\n",
      "Iteration: 736 ==> Relative Error: 1.911067106799162e-08\n",
      "Iteration: 737 ==> Relative Error: 1.8745665048035662e-08\n",
      "Iteration: 738 ==> Relative Error: 1.8386987499672088e-08\n",
      "Iteration: 739 ==> Relative Error: 1.8035838586962745e-08\n",
      "Iteration: 740 ==> Relative Error: 1.769076654012087e-08\n",
      "Iteration: 741 ==> Relative Error: 1.735294819710561e-08\n",
      "Iteration: 742 ==> Relative Error: 1.7020964398340546e-08\n",
      "Iteration: 743 ==> Relative Error: 1.6695969366572824e-08\n",
      "Iteration: 744 ==> Relative Error: 1.637657680049317e-08\n",
      "Iteration: 745 ==> Relative Error: 1.606391748613389e-08\n",
      "Iteration: 746 ==> Relative Error: 1.5756637312180395e-08\n",
      "Iteration: 747 ==> Relative Error: 1.545584488463437e-08\n",
      "Iteration: 748 ==> Relative Error: 1.516021679620078e-08\n",
      "Iteration: 749 ==> Relative Error: 1.48708399839623e-08\n",
      "Iteration: 750 ==> Relative Error: 1.4586421426843243e-08\n",
      "Iteration: 751 ==> Relative Error: 1.430802614111941e-08\n",
      "Iteration: 752 ==> Relative Error: 1.4034390858805604e-08\n",
      "Iteration: 753 ==> Relative Error: 1.3766559822811774e-08\n",
      "Iteration: 754 ==> Relative Error: 1.3503298280491724e-08\n",
      "Iteration: 755 ==> Relative Error: 1.3245629800828363e-08\n",
      "Iteration: 756 ==> Relative Error: 1.2992348016902228e-08\n",
      "Iteration: 757 ==> Relative Error: 1.274445562196515e-08\n",
      "Iteration: 758 ==> Relative Error: 1.2500774491905101e-08\n",
      "Iteration: 759 ==> Relative Error: 1.2262287150424257e-08\n",
      "Iteration: 760 ==> Relative Error: 1.2027841793623927e-08\n",
      "Iteration: 761 ==> Relative Error: 1.179840151405822e-08\n",
      "Iteration: 762 ==> Relative Error: 1.1572841023672602e-08\n",
      "Iteration: 763 ==> Relative Error: 1.1352104334025351e-08\n",
      "Iteration: 764 ==> Relative Error: 1.1135091613223079e-08\n",
      "Iteration: 765 ==> Relative Error: 1.0922727866005665e-08\n",
      "Iteration: 766 ==> Relative Error: 1.0713937711386653e-08\n",
      "Iteration: 767 ==> Relative Error: 1.0509628342874934e-08\n",
      "Iteration: 768 ==> Relative Error: 1.0308749096248287e-08\n",
      "Iteration: 769 ==> Relative Error: 1.011218835191669e-08\n",
      "Iteration: 770 ==> Relative Error: 9.918919416782519e-09\n"
     ]
    }
   ],
   "source": [
    "start_time = time.time()\n",
    "gs_99, list_convgs99 = pagerank_gs(10**-8, csr_m, D, dict_in, 0.99)"
   ]
  },
  {
   "cell_type": "code",
   "execution_count": 31,
   "id": "3ee49016",
   "metadata": {},
   "outputs": [
    {
     "name": "stdout",
     "output_type": "stream",
     "text": [
      "Time of Pagerank with Gauss-Seidel: 3924.5643560886383 seconds\n"
     ]
    }
   ],
   "source": [
    "print(\"Time of Pagerank with Gauss-Seidel:\",\n",
    "      time.time() - start_time, \"seconds\")\n",
    "mat_prgs_99 = np.asarray(gs_99).ravel()"
   ]
  },
  {
   "cell_type": "markdown",
   "id": "ca289649",
   "metadata": {},
   "source": [
    "#### Results"
   ]
  },
  {
   "cell_type": "markdown",
   "id": "18270912",
   "metadata": {},
   "source": [
    "Both approaches converge more slowly when alpha=0.99. The Gauss-Seidel method for iterative system solution converges substantially slower than that time. Again, the power approach appears to be considerably quicker than the Gauss-Seidel version. The order of the first 50 nodes has altered. Except for the first most significant node, which remains at 89072, all of the others have shifted positions."
   ]
  },
  {
   "cell_type": "code",
   "execution_count": 32,
   "id": "7e439e2e",
   "metadata": {},
   "outputs": [
    {
     "name": "stdout",
     "output_type": "stream",
     "text": [
      "The two aforementioned methods differ in: 138038 ranks.\n"
     ]
    }
   ],
   "source": [
    "indices_pr_99 = mat_prg_99.argsort()[-len(mat_prg):][::-1]\n",
    "indices_prs_99 = mat_prgs_99.argsort()[-len(mat_prg):][::-1]\n",
    "print(\"The two aforementioned methods differ in:\",\n",
    "      sum(indices_prs_99[:] != indices_pr_99[:]), \"ranks.\")"
   ]
  },
  {
   "cell_type": "code",
   "execution_count": 33,
   "id": "01cb665c",
   "metadata": {},
   "outputs": [
    {
     "name": "stdout",
     "output_type": "stream",
     "text": [
      "We observe differences in: 49 ranks (power method).\n"
     ]
    }
   ],
   "source": [
    "print(\"We observe differences in:\",\n",
    "      sum(indices_pr[:50] != indices_pr_99[:50]),\n",
    "      \"ranks (power method).\")"
   ]
  },
  {
   "cell_type": "code",
   "execution_count": 34,
   "id": "94d01dfc",
   "metadata": {},
   "outputs": [
    {
     "name": "stdout",
     "output_type": "stream",
     "text": [
      "We observe differences in: 49 ranks (Gauss Seidel).\n"
     ]
    }
   ],
   "source": [
    "print(\"We observe differences in:\",\n",
    "      sum(indices_prs[:50] != indices_prs_99[:50]),\n",
    "      \"ranks (Gauss Seidel).\")"
   ]
  },
  {
   "cell_type": "markdown",
   "id": "f2de6c8f",
   "metadata": {},
   "source": [
    "### Question 1c"
   ]
  },
  {
   "cell_type": "markdown",
   "id": "e21e045f",
   "metadata": {},
   "source": [
    "We observe that the components of $π$ that correspond to non important converge faster, as it is shown below."
   ]
  },
  {
   "cell_type": "code",
   "execution_count": 35,
   "id": "b06667ac",
   "metadata": {},
   "outputs": [
    {
     "name": "stdout",
     "output_type": "stream",
     "text": [
      "When we use the power method 42904 components of π converge at the second iteration.\n"
     ]
    }
   ],
   "source": [
    "print(\"When we use the power method\",\n",
    "      len(list_conv),\n",
    "      \"components of π converge at the second iteration.\")"
   ]
  },
  {
   "cell_type": "code",
   "execution_count": 36,
   "id": "a00b55c1",
   "metadata": {},
   "outputs": [
    {
     "name": "stdout",
     "output_type": "stream",
     "text": [
      "From those components of π that converged faster 0 component(s) correspond to the top (1000) ranked nodes (Power method).\n"
     ]
    }
   ],
   "source": [
    "counter = 0\n",
    "for node in list_conv:\n",
    "    if node in indices_pr[:1000]:\n",
    "        counter += 1\n",
    "print(\"From those components of π that converged faster\",\n",
    "      counter,\n",
    "      \"component(s) correspond to the top (1000) ranked nodes (Power method).\")"
   ]
  },
  {
   "cell_type": "code",
   "execution_count": 37,
   "id": "e23538be",
   "metadata": {},
   "outputs": [
    {
     "name": "stdout",
     "output_type": "stream",
     "text": [
      "When we find π through the solution of the linear system 34367 components of π converge at the second iteration.\n"
     ]
    }
   ],
   "source": [
    "print(\"When we find π through the solution of the linear system\",\n",
    "      len(list_convgs),\n",
    "      \"components of π converge at the second iteration.\")"
   ]
  },
  {
   "cell_type": "code",
   "execution_count": 38,
   "id": "3285b952",
   "metadata": {},
   "outputs": [
    {
     "name": "stdout",
     "output_type": "stream",
     "text": [
      "From those components of π that converged faster 1 component(s) correspond to the top (1000) ranked nodes (Gauss Seidel).\n"
     ]
    }
   ],
   "source": [
    "counter = 0\n",
    "for node in list_convgs:\n",
    "    if node in indices_prs[:1000]:\n",
    "        counter += 1\n",
    "print(\"From those components of π that converged faster\", counter,\n",
    "      \"component(s) correspond to the top (1000) ranked nodes (Gauss Seidel).\")"
   ]
  },
  {
   "cell_type": "markdown",
   "id": "75feb0c3",
   "metadata": {},
   "source": [
    "### Question 2a"
   ]
  },
  {
   "cell_type": "code",
   "execution_count": 39,
   "id": "2909166a",
   "metadata": {},
   "outputs": [],
   "source": [
    "# method to parse the data. Obviously, storing all that information\n",
    "# naively in a numpy array would lead to memory error. Thus, sparse\n",
    "# matrix is used.\n",
    "def load_dataset1(data):\n",
    "    # list to store the origin pages,\n",
    "    origin_pages = []\n",
    "    # list to store the destination pages,\n",
    "    destination_pages = []\n",
    "    with open(data, 'r') as f:\n",
    "        # for each line of the initial data file\n",
    "        for line in f.readlines():\n",
    "            # get the item of the first column\n",
    "            # and substract one. This is done because the ids of webpages\n",
    "            # begin from 1 but the indexes for matrices begine from 0. So\n",
    "            # 1 will stand for 0.\n",
    "            origin_page = int(line.split()[0]) - 1\n",
    "            # Apply the same logic as above for the element of the second\n",
    "            # column.\n",
    "            destination_page = int(line.split()[1]) - 1\n",
    "            # append the the from page to the relative list\n",
    "            origin_pages.append(origin_page)\n",
    "            # append the the to page to the relative list\n",
    "            destination_pages.append(destination_page)\n",
    "            \n",
    "    # compute number of edges\n",
    "    edges = len(origin_pages)\n",
    "    # compute number of nodes\n",
    "    nodes = len(set(origin_pages) | set(destination_pages))\n",
    "    \n",
    "\n",
    "    # fill the connectivity matrix, adjacency matrix. A sparse structure \n",
    "    # is used. That way the implementation is extremely memory efficient.\n",
    "    # increase the size of the array by introducing a dangling node, i.e.\n",
    "    # X\n",
    "    csr_m = sparse.csr_matrix(([1]*edges,\n",
    "                               (destination_pages, origin_pages)),\n",
    "                              shape=(nodes + 1, nodes + 1))\n",
    "    # return the adjacency sparse matrix\n",
    "    return csr_m"
   ]
  },
  {
   "cell_type": "code",
   "execution_count": 40,
   "id": "785aa8a5",
   "metadata": {},
   "outputs": [],
   "source": [
    "csr_m1 = load_dataset1(\"./Dataset/stanweb.dat\")\n",
    "pr1, t1, list_conv1 = pagerank_galgo(csr_m1)"
   ]
  },
  {
   "cell_type": "markdown",
   "id": "1647f7ad",
   "metadata": {},
   "source": [
    "#### **Results**"
   ]
  },
  {
   "cell_type": "markdown",
   "id": "4db2f8a6",
   "metadata": {},
   "source": [
    "We see that the PageRanks of the older pages affected by the addition of the new page stay nearly untouched, despite the fact that they are in no way related to the newly added page. Furthermore, we should keep in mind that the number of nodes is really massive. The PageRank of the newly uploaded page is anticipated to be computed using the PageRank formula. It is really just (1 - alpha)/n = 0.15/281904."
   ]
  },
  {
   "cell_type": "code",
   "execution_count": 41,
   "id": "6333041b",
   "metadata": {},
   "outputs": [
    {
     "name": "stdout",
     "output_type": "stream",
     "text": [
      "The PageRank of page X is: 5.333658781475117e-07\n"
     ]
    }
   ],
   "source": [
    "pageRank_X = np.asarray(pr1[csr_m1.shape[0] - 1]).ravel()[0]\n",
    "print(\"The PageRank of page X is:\", pageRank_X)"
   ]
  },
  {
   "cell_type": "code",
   "execution_count": 42,
   "id": "76e05311",
   "metadata": {},
   "outputs": [
    {
     "name": "stdout",
     "output_type": "stream",
     "text": [
      "Change in PageRank of the other pages due to the addition of the new page: 1.2048086354849136e-08\n",
      "Changes in: 50570 ranks.\n"
     ]
    }
   ],
   "source": [
    "norm_diff = np.linalg.norm(np.asarray(pr[:csr_m.shape[0]].ravel()) - np.asarray(pr1[:csr_m1.shape[0] - 1].ravel()))\n",
    "print(\"Change in PageRank of the other pages due to the addition of the new page:\", norm_diff)\n",
    "\n",
    "mat_prg = np.asarray(pr).ravel()\n",
    "mat_prg1 = np.asarray(pr1[:csr_m1.shape[0] - 1]).ravel()\n",
    "\n",
    "indices_pr = mat_prg.argsort()[-len(mat_prg):][::-1]\n",
    "indices_pr1 = mat_prg1.argsort()[-len(mat_prg1):][::-1]\n",
    "print(\"Changes in:\",\n",
    "      np.sum(indices_pr[:] != indices_pr1[:]), \"ranks.\")"
   ]
  },
  {
   "cell_type": "markdown",
   "id": "0a373445",
   "metadata": {},
   "source": [
    "### Question 2b"
   ]
  },
  {
   "cell_type": "code",
   "execution_count": 43,
   "id": "2dd02d96",
   "metadata": {},
   "outputs": [],
   "source": [
    "# method to parse the data. Obviously, storing all that information\n",
    "# naively in a numpy array would lead to memory error. Thus, sparse\n",
    "# matrix is used.\n",
    "def load_dataset2(data):\n",
    "    # list to store the origin pages,\n",
    "    from_pages = []\n",
    "    # list to store the destination pages,\n",
    "    to_pages = []\n",
    "    with open(data, 'r') as f:\n",
    "        # for each line of the initial data file\n",
    "        for line in f.readlines():\n",
    "            # get the item of the first column\n",
    "            # and substract one. This is done because the ids of webpages\n",
    "            # begin from 1 but the indexes for matrices begine from 0. So\n",
    "            # 1 will stand for 0.\n",
    "            from_page = int(line.split()[0]) - 1\n",
    "            # Apply the same logic as above for the element of the second\n",
    "            # column.\n",
    "            to_page = int(line.split()[1]) - 1\n",
    "            # append the the from page to the relative list\n",
    "            from_pages.append(from_page)\n",
    "            # append the the to page to the relative list\n",
    "            to_pages.append(to_page)\n",
    "            \n",
    "    # compute number of edges\n",
    "    edges = len(from_pages)\n",
    "    # compute number of nodes\n",
    "    nodes = len(set(from_pages) | set(to_pages))\n",
    "    \n",
    "    # add a new edge Y -> X\n",
    "    from_pages.append(nodes)\n",
    "    to_pages.append(nodes + 1)\n",
    "    # increase the number of nodes by two for X, Y\n",
    "    nodes += 2\n",
    "    # increase the number of edges by one\n",
    "    edges += 1\n",
    "    \n",
    "    # fill the connectivity matrix, adjacency matrix. A sparse structure \n",
    "    # is used. That way the implementation is extremely memory efficient.\n",
    "    csr_m = sparse.csr_matrix(([1]*edges,\n",
    "                               (to_pages, from_pages)),\n",
    "                              shape=(nodes, nodes))\n",
    "    # return the adjacency sparse matrix\n",
    "    return csr_m"
   ]
  },
  {
   "cell_type": "code",
   "execution_count": 44,
   "id": "bad27268",
   "metadata": {},
   "outputs": [],
   "source": [
    "csr_m2 = load_dataset2(\"./Dataset/stanweb.dat\")\n",
    "pr2, t2, list_conv2 = pagerank_galgo(csr_m2)"
   ]
  },
  {
   "cell_type": "markdown",
   "id": "e57314ab",
   "metadata": {},
   "source": [
    "#### **Results**"
   ]
  },
  {
   "cell_type": "markdown",
   "id": "37be0599",
   "metadata": {},
   "source": [
    "We see that the PageRanks of older pages changed more throughout that time period owing to the inclusion of new pages. Furthermore, we should keep in mind that the number of nodes is really enormous. The PageRank of the newly uploaded page is anticipated to be computed using the PageRank formula. The PageRank of X has clearly improved, whereas the PageRank of Y is the same as the PageRank of X in the preceding question."
   ]
  },
  {
   "cell_type": "code",
   "execution_count": 45,
   "id": "477379fa",
   "metadata": {},
   "outputs": [
    {
     "name": "stdout",
     "output_type": "stream",
     "text": [
      "The PageRank of page X is: 9.867259009702931e-07\n"
     ]
    }
   ],
   "source": [
    "pageRank_Xb = np.asarray(pr2[csr_m2.shape[0] - 1]).ravel()[0]\n",
    "print(\"The PageRank of page X is:\", pageRank_Xb)"
   ]
  },
  {
   "cell_type": "code",
   "execution_count": 46,
   "id": "556b9d4d",
   "metadata": {},
   "outputs": [
    {
     "name": "stdout",
     "output_type": "stream",
     "text": [
      "The PageRank of page Y is: 5.333653518615822e-07\n"
     ]
    }
   ],
   "source": [
    "pageRank_Yb = np.asarray(pr2[csr_m2.shape[0] - 2]).ravel()[0]\n",
    "print(\"The PageRank of page Y is:\", pageRank_Yb)"
   ]
  },
  {
   "cell_type": "code",
   "execution_count": 47,
   "id": "4b0772e1",
   "metadata": {},
   "outputs": [
    {
     "name": "stdout",
     "output_type": "stream",
     "text": [
      "Change in PageRank of the other pages due to the addition of the new page: 3.433701367463661e-08\n",
      "Changes in: 51477 ranks.\n"
     ]
    }
   ],
   "source": [
    "norm_diff = np.linalg.norm(np.asarray(pr[:csr_m.shape[0]].ravel()) - np.asarray(pr2[:csr_m2.shape[0] - 2].ravel()))\n",
    "print(\"Change in PageRank of the other pages due to the addition of the new page:\", norm_diff)\n",
    "\n",
    "mat_prg = np.asarray(pr).ravel()\n",
    "mat_prg2 = np.asarray(pr2[:csr_m2.shape[0] - 2]).ravel()\n",
    "\n",
    "indices_pr = mat_prg.argsort()[-len(mat_prg):][::-1]\n",
    "indices_pr2 = mat_prg2.argsort()[-len(mat_prg2):][::-1]\n",
    "print(\"Changes in:\",\n",
    "      np.sum(indices_pr[:] != indices_pr2[:]), \"ranks.\")"
   ]
  },
  {
   "cell_type": "markdown",
   "id": "f723eeb0",
   "metadata": {},
   "source": [
    "### Question 2c"
   ]
  },
  {
   "cell_type": "code",
   "execution_count": 48,
   "id": "2f48b6a0",
   "metadata": {},
   "outputs": [],
   "source": [
    "# method to parse the data. Obviously, storing all that information\n",
    "# naively in a numpy array would lead to memory error. Thus, sparse\n",
    "# matrix is used.\n",
    "def load_dataset3(data):\n",
    "    # list to store the origin pages,\n",
    "    # i.e. the pages showing to other pages\n",
    "    from_pages = []\n",
    "    # list to store the destination pages,\n",
    "    # i.e. the pages being showed by other pages\n",
    "    to_pages = []\n",
    "    with open(data, 'r') as f:\n",
    "        # for each line of the initial data file\n",
    "        for line in f.readlines():\n",
    "            # get the item of the first column\n",
    "            # and substract one. This is done because the ids of webpages\n",
    "            # begin from 1 but the indexes for matrices begine from 0. So\n",
    "            # 1 will stand for 0.\n",
    "            from_page = int(line.split()[0]) - 1\n",
    "            # Apply the same logic as above for the element of the second\n",
    "            # column.\n",
    "            to_page = int(line.split()[1]) - 1\n",
    "            # append the the from page to the relative list\n",
    "            from_pages.append(from_page)\n",
    "            # append the the to page to the relative list\n",
    "            to_pages.append(to_page)\n",
    "            \n",
    "    # compute number of edges\n",
    "    edges = len(from_pages)\n",
    "    # compute number of nodes\n",
    "    nodes = len(set(from_pages) | set(to_pages))\n",
    "    \n",
    "    # add a new edge Y -> X\n",
    "    from_pages.append(nodes)\n",
    "    to_pages.append(nodes + 2)\n",
    "    \n",
    "    # add a new edge Z -> X\n",
    "    from_pages.append(nodes + 1)\n",
    "    to_pages.append(nodes + 2)\n",
    "\n",
    "    # increases as needed the number of nodes and edges\n",
    "    nodes += 3\n",
    "    edges += 2\n",
    "    \n",
    "    # fill the connectivity matrix, adjacency matrix. A sparse structure \n",
    "    # is used. That way the implementation is extremely memory efficient.\n",
    "    csr_m = sparse.csr_matrix(([1]*edges,\n",
    "                               (to_pages, from_pages)),\n",
    "                              shape=(nodes, nodes))\n",
    "    # return the adjacency sparse matrix\n",
    "    return csr_m"
   ]
  },
  {
   "cell_type": "code",
   "execution_count": 49,
   "id": "6496971b",
   "metadata": {},
   "outputs": [],
   "source": [
    "csr_m3 = load_dataset3(\"./Dataset/stanweb.dat\")\n",
    "pr3, t3, list_conv3 = pagerank_galgo(csr_m3)"
   ]
  },
  {
   "cell_type": "markdown",
   "id": "40f4b265",
   "metadata": {},
   "source": [
    "#### Results"
   ]
  },
  {
   "cell_type": "markdown",
   "id": "826f7935",
   "metadata": {},
   "source": [
    "In order to to maximize the PageRank of X, both Y and Z should point only to X, according to logic behind PageRank. This is implemented and the results are presented below. Obviously, the PageRank of X is now again improved."
   ]
  },
  {
   "cell_type": "code",
   "execution_count": 50,
   "id": "c20cc035",
   "metadata": {},
   "outputs": [
    {
     "name": "stdout",
     "output_type": "stream",
     "text": [
      "The PageRank of page X is: 1.4400850291097994e-06\n"
     ]
    }
   ],
   "source": [
    "pageRank_Xc = np.asarray(pr3[csr_m3.shape[0] - 1]).ravel()[0]\n",
    "print(\"The PageRank of page X is:\", pageRank_Xc)"
   ]
  },
  {
   "cell_type": "code",
   "execution_count": 51,
   "id": "2051c1d6",
   "metadata": {},
   "outputs": [
    {
     "name": "stdout",
     "output_type": "stream",
     "text": [
      "The PageRank of page Y is: 5.333648255766965e-07\n"
     ]
    }
   ],
   "source": [
    "pageRank_Yc = np.asarray(pr3[csr_m3.shape[0] - 2]).ravel()[0]\n",
    "print(\"The PageRank of page Y is:\", pageRank_Yc)"
   ]
  },
  {
   "cell_type": "code",
   "execution_count": 52,
   "id": "2b2f1034",
   "metadata": {},
   "outputs": [
    {
     "name": "stdout",
     "output_type": "stream",
     "text": [
      "The PageRank of page Z is: 5.333648255766965e-07\n"
     ]
    }
   ],
   "source": [
    "pageRank_Zc = np.asarray(pr3[csr_m3.shape[0] - 3]).ravel()[0]\n",
    "print(\"The PageRank of page Z is:\", pageRank_Zc)"
   ]
  },
  {
   "cell_type": "code",
   "execution_count": 53,
   "id": "006956f1",
   "metadata": {},
   "outputs": [
    {
     "name": "stdout",
     "output_type": "stream",
     "text": [
      "Changes in PageRank of the other pages due to the addition of the new page: 5.6625897409508286e-08\n",
      "Changes in: 52911 ranks.\n"
     ]
    }
   ],
   "source": [
    "norm_diff = np.linalg.norm(np.asarray(pr[:csr_m.shape[0]].ravel()) - np.asarray(pr3[:csr_m3.shape[0] - 3].ravel()))\n",
    "print(\"Changes in PageRank of the other pages due to the addition of the new page:\", norm_diff)\n",
    "\n",
    "mat_prg = np.asarray(pr).ravel()\n",
    "mat_prg3 = np.asarray(pr3[:csr_m3.shape[0] - 3]).ravel()\n",
    "\n",
    "indices_pr = mat_prg.argsort()[-len(mat_prg):][::-1]\n",
    "indices_pr3 = mat_prg3.argsort()[-len(mat_prg3):][::-1]\n",
    "print(\"Changes in:\",\n",
    "      np.sum(indices_pr[:] != indices_pr3[:]), \"ranks.\")"
   ]
  },
  {
   "cell_type": "markdown",
   "id": "97058640",
   "metadata": {},
   "source": [
    "### Question2d"
   ]
  },
  {
   "cell_type": "code",
   "execution_count": 54,
   "id": "396fd682",
   "metadata": {},
   "outputs": [],
   "source": [
    "# determine top 100 - most popular pages - here as popular are considered\n",
    "# pages with high PageRank, because PageRank can be seen as a measure of\n",
    "# popularity\n",
    "top_100 = indices_pr[0:100]\n",
    "\n",
    "# determine top 100 - most popular pages - here as popular are considered\n",
    "# pages with high in-degree\n",
    "list_degree = np.asarray([len(dict_in[x]) for x in sorted(list(dict_in.keys()))])\n",
    "indices_degree = list_degree.argsort()[-len(list_degree):][::-1]\n",
    "popular_100 = list_degree[0:100]"
   ]
  },
  {
   "cell_type": "code",
   "execution_count": 55,
   "id": "9e2e5aab",
   "metadata": {},
   "outputs": [],
   "source": [
    "# method to parse the data. Obviously, storing all that information\n",
    "# naively in a numpy array would lead to memory error. Thus, sparse\n",
    "# matrix is used.\n",
    "def load_dataset4(data, top100):\n",
    "    # list to store the origin pages,\n",
    "    # i.e. the pages showing to other pages\n",
    "    from_pages = []\n",
    "    # list to store the destination pages,\n",
    "    # i.e. the pages being showed by other pages\n",
    "    to_pages = []\n",
    "    with open(data, 'r') as f:\n",
    "        # for each line of the initial data file\n",
    "        for line in f.readlines():\n",
    "            # get the item of the first column\n",
    "            # and substract one. This is done because the ids of webpages\n",
    "            # begin from 1 but the indexes for matrices begine from 0. So\n",
    "            # 1 will stand for 0.\n",
    "            from_page = int(line.split()[0]) - 1\n",
    "            # Apply the same logic as above for the element of the second\n",
    "            # column.\n",
    "            to_page = int(line.split()[1]) - 1\n",
    "            # append the the from page to the relative list\n",
    "            from_pages.append(from_page)\n",
    "            # append the the to page to the relative list\n",
    "            to_pages.append(to_page)\n",
    "            \n",
    "    # compute number of edges\n",
    "    edges = len(from_pages)\n",
    "    # compute number of nodes\n",
    "    nodes = len(set(from_pages) | set(to_pages))\n",
    "    \n",
    "    # add a new edge Y -> X\n",
    "    from_pages.append(nodes)\n",
    "    to_pages.append(nodes + 2)\n",
    "    \n",
    "    # add a new edge Z -> X\n",
    "    from_pages.append(nodes + 1)\n",
    "    to_pages.append(nodes + 2)\n",
    "    \n",
    "    # add links from X to older, popular pages\n",
    "    for node in top_100:\n",
    "        from_pages.append(nodes + 2)\n",
    "        to_pages.append(node)\n",
    "    \n",
    "    # increase number of nodes and edges as needed\n",
    "    nodes += 3\n",
    "    edges += 102\n",
    "    \n",
    "    # fill the connectivity matrix, adjacency matrix. A sparse structure \n",
    "    # is used. That way the implementation is extremely memory efficient.\n",
    "    csr_m = sparse.csr_matrix(([1]*edges,\n",
    "                               (to_pages, from_pages)),\n",
    "                              shape=(nodes, nodes))\n",
    "    # return the adjacency sparse matrix\n",
    "    return csr_m"
   ]
  },
  {
   "cell_type": "code",
   "execution_count": 56,
   "id": "c2d90b39",
   "metadata": {},
   "outputs": [],
   "source": [
    "# method to parse the data. Obviously, storing all that information\n",
    "# naively in a numpy array would lead to memory error. Thus, sparse\n",
    "# matrix is used.\n",
    "def load_dataset5(data, top100):\n",
    "    # list to store the origin pages,\n",
    "    # i.e. the pages showing to other pages\n",
    "    from_pages = []\n",
    "    # list to store the destination pages,\n",
    "    # i.e. the pages being showed by other pages\n",
    "    to_pages = []\n",
    "    with open(data, 'r') as f:\n",
    "        # for each line of the initial data file\n",
    "        for line in f.readlines():\n",
    "            # get the item of the first column\n",
    "            # and substract one. This is done because the ids of webpages\n",
    "            # begin from 1 but the indexes for matrices begine from 0. So\n",
    "            # 1 will stand for 0.\n",
    "            from_page = int(line.split()[0]) - 1\n",
    "            # Apply the same logic as above for the element of the second\n",
    "            # column.\n",
    "            to_page = int(line.split()[1]) - 1\n",
    "            # append the the from page to the relative list\n",
    "            from_pages.append(from_page)\n",
    "            # append the the to page to the relative list\n",
    "            to_pages.append(to_page)\n",
    "            \n",
    "    # compute number of edges\n",
    "    edges = len(from_pages)\n",
    "    # compute number of nodes\n",
    "    nodes = len(set(from_pages) | set(to_pages))\n",
    "    \n",
    "    # add a new edge Y -> X\n",
    "    from_pages.append(nodes)\n",
    "    to_pages.append(nodes + 2)\n",
    "    \n",
    "    # add a new edge Z -> X\n",
    "    from_pages.append(nodes + 1)\n",
    "    to_pages.append(nodes + 2)\n",
    "    \n",
    "    # add links from Y (or Z) to older, popular pages\n",
    "    for node in top_100:\n",
    "        from_pages.append(nodes + 1)\n",
    "        to_pages.append(node)\n",
    "\n",
    "    # increase number of nodes and edges as needed\n",
    "    nodes += 3\n",
    "    edges += 102\n",
    "    \n",
    "    # fill the connectivity matrix, adjacency matrix. A sparse structure \n",
    "    # is used. That way the implementation is extremely memory efficient.\n",
    "    csr_m = sparse.csr_matrix(([1]*edges,\n",
    "                               (to_pages, from_pages)),\n",
    "                              shape=(nodes, nodes))\n",
    "    # return the adjacency sparse matrix\n",
    "    return csr_m"
   ]
  },
  {
   "cell_type": "code",
   "execution_count": 58,
   "id": "5a9d0797",
   "metadata": {},
   "outputs": [],
   "source": [
    "csr_m4 = load_dataset4(\"./Dataset/stanweb.dat\", top_100)\n",
    "pr4, t4, list_conv4 = pagerank_galgo(csr_m4)\n",
    "\n",
    "csr_m5 = load_dataset5(\"./Dataset/stanweb.dat\", top_100)\n",
    "pr5, t4, list_conv5 = pagerank_galgo(csr_m5)"
   ]
  },
  {
   "cell_type": "markdown",
   "id": "050e0734",
   "metadata": {},
   "source": [
    "#### **Results**"
   ]
  },
  {
   "cell_type": "markdown",
   "id": "d59017df",
   "metadata": {},
   "source": [
    "When we add links from X to older, popular pages (top 100), the PageRank of X falls significantly, and when we add connections from Y (or Z) to older, popular pages (top 100), the PageRank of X falls even further. This makes sense because Y's (or Z's) PageRank is now distributed across more webpages. As a result, this is not an effective method of improving X's PageRank, because the PageRank of a webpage generally improves as the number of webpages connecting to that webpage increases."
   ]
  },
  {
   "cell_type": "code",
   "execution_count": 59,
   "id": "ad91ac01",
   "metadata": {},
   "outputs": [
    {
     "name": "stdout",
     "output_type": "stream",
     "text": [
      "If we add links from X to older, popular pages the PageRank of page X is: 1.4400732985803644e-06\n",
      "If we add links from Y to older, popular pages the PageRank of page X is: 9.912111253145325e-07\n"
     ]
    }
   ],
   "source": [
    "# if we add links from X to older, popular pages\n",
    "pageRank_Xd = np.asarray(pr4[csr_m4.shape[0] - 1]).ravel()[0]\n",
    "print(\"If we add links from X to older, popular pages the PageRank of page X is:\", pageRank_Xd)\n",
    "\n",
    "# if we add links from Y to older, popular pages\n",
    "pageRank_Xd2 = np.asarray(pr5[csr_m5.shape[0] - 1]).ravel()[0]\n",
    "print(\"If we add links from Y to older, popular pages the PageRank of page X is:\", pageRank_Xd2)"
   ]
  },
  {
   "cell_type": "markdown",
   "id": "380811e7",
   "metadata": {},
   "source": [
    "### Question 2e"
   ]
  },
  {
   "cell_type": "markdown",
   "id": "d14f22b7",
   "metadata": {},
   "source": [
    "Based on the previous questions, it is clear that boosting a webpage's PageRank is a difficult process. That does not, however, make it impossible. The PageRank of a webpage can be enhanced as more and more pages link to it. Of course, if those pages have a high PageRank, their contribution will be considerably greater. Nonetheless, the more pages that point to a page, the greater the PageRank of that page. Furthermore, links between such pages may be beneficial."
   ]
  }
 ],
 "metadata": {
  "kernelspec": {
   "display_name": "Python 3 (ipykernel)",
   "language": "python",
   "name": "python3"
  },
  "language_info": {
   "codemirror_mode": {
    "name": "ipython",
    "version": 3
   },
   "file_extension": ".py",
   "mimetype": "text/x-python",
   "name": "python",
   "nbconvert_exporter": "python",
   "pygments_lexer": "ipython3",
   "version": "3.10.4"
  }
 },
 "nbformat": 4,
 "nbformat_minor": 5
}
